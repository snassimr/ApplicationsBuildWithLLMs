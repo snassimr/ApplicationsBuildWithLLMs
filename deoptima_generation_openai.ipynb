{
  "cells": [
    {
      "cell_type": "markdown",
      "metadata": {
        "id": "view-in-github",
        "colab_type": "text"
      },
      "source": [
        "<a href=\"https://colab.research.google.com/github/snassimr/ApplicationsBuildWithLLMs/blob/main/deoptima_generation_openai.ipynb\" target=\"_parent\"><img src=\"https://colab.research.google.com/assets/colab-badge.svg\" alt=\"Open In Colab\"/></a>"
      ]
    },
    {
      "cell_type": "markdown",
      "metadata": {
        "id": "VY5ilTHy_WxF"
      },
      "source": [
        "# Setup"
      ]
    },
    {
      "cell_type": "code",
      "execution_count": 122,
      "metadata": {
        "id": "tv7US0CF_HyE"
      },
      "outputs": [],
      "source": [
        "%reload_ext autoreload\n",
        "%autoreload 2\n",
        "\n",
        "from IPython.core.interactiveshell import InteractiveShell\n",
        "InteractiveShell.ast_node_interactivity = \"all\""
      ]
    },
    {
      "cell_type": "code",
      "execution_count": 123,
      "metadata": {
        "colab": {
          "base_uri": "https://localhost:8080/"
        },
        "id": "5ing0udi_eZe",
        "outputId": "0048ebfa-0973-44b0-829b-6801c9893cb8"
      },
      "outputs": [
        {
          "output_type": "stream",
          "name": "stdout",
          "text": [
            "Mounted at /content/gdrive\n"
          ]
        }
      ],
      "source": [
        "from google.colab import drive\n",
        "drive.mount('/content/gdrive', force_remount = True)"
      ]
    },
    {
      "cell_type": "code",
      "execution_count": 124,
      "metadata": {
        "id": "A7Xaez3cAtHH"
      },
      "outputs": [],
      "source": [
        "SYS_PROJECT_DIR  = '/content/gdrive/MyDrive/Colab Notebooks/deoptima'\n",
        "SYS_SRC_DIR  = '/content/gdrive/MyDrive/Colab Notebooks/deoptima/deoptima'\n",
        "SYS_INPUT_DIR    = '/content/gdrive/MyDrive/Colab Notebooks/deoptima/input'\n",
        "SYS_MODELING_DIR = '/content/gdrive/MyDrive/Colab Notebooks/deoptima/modeling'\n",
        "SYS_TESTING_DIR = '/content/gdrive/MyDrive/Colab Notebooks/deoptima/testing'\n",
        "SYS_RUNTIME_DIR = '/content/gdrive/MyDrive/Colab Notebooks/deoptima/runtime'\n",
        "SYS_LLM_MODEL    = 'Mistral-7B-Instruct-v0.3'"
      ]
    },
    {
      "cell_type": "code",
      "execution_count": 125,
      "metadata": {
        "id": "SvDFm5dAAih0"
      },
      "outputs": [],
      "source": [
        "import os\n",
        "import pandas as pd\n",
        "import shutil\n",
        "\n",
        "pd.set_option('display.max_columns', None)\n",
        "pd.set_option('display.width', None)\n",
        "pd.set_option('display.max_colwidth', None)\n",
        "pd.options.mode.copy_on_write = True"
      ]
    },
    {
      "cell_type": "markdown",
      "metadata": {
        "id": "kMO4ESpI5F6M"
      },
      "source": [
        "# Installs"
      ]
    },
    {
      "cell_type": "code",
      "execution_count": 126,
      "metadata": {
        "colab": {
          "base_uri": "https://localhost:8080/"
        },
        "id": "GmX0Qdub2tni",
        "outputId": "beb04bb8-ab65-4115-8876-00074d81ca57"
      },
      "outputs": [
        {
          "output_type": "execute_result",
          "data": {
            "text/plain": [
              "86"
            ]
          },
          "metadata": {},
          "execution_count": 126
        }
      ],
      "source": [
        "import os\n",
        "\n",
        "requirements = \"\"\"\n",
        "torch==2.3.1\n",
        "accelerate==0.32.1\n",
        "transformers==4.42.4\n",
        "vllm==0.5.4\n",
        "gradio==4.41.0\n",
        "nemoguardrails==0.9.1.1\n",
        "langchain_community==0.2.11\n",
        "langchain-openai==0.1.21\n",
        "\"\"\"\n",
        "requirements = \"\"\"\n",
        "python-dotenv==1.0.1\n",
        "gradio==4.41.0\n",
        "nemoguardrails==0.9.1.1\n",
        "langchain-openai==0.1.21\n",
        "\"\"\"\n",
        "\n",
        "requirements_path = os.path.join(SYS_PROJECT_DIR, 'requirements.txt')\n",
        "with open(requirements_path, 'w') as f:\n",
        "    f.write(requirements)"
      ]
    },
    {
      "cell_type": "code",
      "execution_count": 127,
      "metadata": {
        "id": "DjyetbztnSlJ"
      },
      "outputs": [],
      "source": [
        "# import locale\n",
        "# locale.getpreferredencoding = lambda: \"UTF-8\""
      ]
    },
    {
      "cell_type": "code",
      "execution_count": 128,
      "metadata": {
        "id": "JIMNva_V5IrS"
      },
      "outputs": [],
      "source": [
        "import os\n",
        "requirements_path = os.path.join(SYS_PROJECT_DIR, 'requirements.txt')\n",
        "!pip install -q -r '{requirements_path}'"
      ]
    },
    {
      "cell_type": "code",
      "execution_count": 129,
      "metadata": {
        "id": "gr_5DHGsMvOV"
      },
      "outputs": [],
      "source": [
        "import sys\n",
        "import os\n",
        "\n",
        "if SYS_PROJECT_DIR not in sys.path:\n",
        "    sys.path.append(SYS_PROJECT_DIR)\n",
        "\n",
        "from deoptima.utils import set_logger\n",
        "from deoptima.utils import dictionary_to_string\n",
        "from deoptima.utils import conversation_to_string\n",
        "from deoptima.utils import process_state_to_string"
      ]
    },
    {
      "cell_type": "code",
      "execution_count": 130,
      "metadata": {
        "id": "FttErEB_N_kf"
      },
      "outputs": [],
      "source": [
        "from deoptima.utils import generate_session_id\n",
        "session_id = generate_session_id()"
      ]
    },
    {
      "cell_type": "code",
      "execution_count": 131,
      "metadata": {
        "id": "BOpkXEg6N_aa"
      },
      "outputs": [],
      "source": [
        "from deoptima.utils import set_logger\n",
        "deoptima_logger = set_logger(session_id, log_mode = 'FS')"
      ]
    },
    {
      "cell_type": "code",
      "execution_count": 132,
      "metadata": {
        "id": "sClS3ZyuN-sO"
      },
      "outputs": [],
      "source": [
        "import logging\n",
        "deoptima_logger = logging.getLogger(\"deoptima\")"
      ]
    },
    {
      "cell_type": "code",
      "execution_count": 133,
      "metadata": {
        "id": "rnPo-noJ_6hd"
      },
      "outputs": [],
      "source": [
        "# import os\n",
        "\n",
        "# from google.colab import userdata\n",
        "# os.environ[\"OPENAI_API_KEY\"] = userdata.get(\"OPENAI_API_KEY\")\n",
        "# openai_api_key = userdata.get(\"OPENAI_API_KEY\")"
      ]
    },
    {
      "cell_type": "code",
      "execution_count": 134,
      "metadata": {
        "id": "np_bdDVx0i3W"
      },
      "outputs": [],
      "source": [
        "from dotenv import load_dotenv, find_dotenv\n",
        "# Get the current environment, default to 'dev'\n",
        "ENV = os.getenv('ENV', 'dev')\n",
        "\n",
        "# Load the appropriate .env file based on the ENV variable\n",
        "if ENV == 'prod':\n",
        "  _ = load_dotenv(os.path.join(SYS_PROJECT_DIR,'./.env.prod'))\n",
        "else:\n",
        "  _ = load_dotenv(os.path.join(SYS_PROJECT_DIR,'./.env.dev'))"
      ]
    },
    {
      "cell_type": "markdown",
      "metadata": {
        "id": "ok4HsW9nwQg9"
      },
      "source": [
        "# Model"
      ]
    },
    {
      "cell_type": "markdown",
      "metadata": {
        "id": "RKxO4SGTWu2f"
      },
      "source": [
        "## Conversation"
      ]
    },
    {
      "cell_type": "code",
      "execution_count": 135,
      "metadata": {
        "id": "g_79n8xNCjwr"
      },
      "outputs": [],
      "source": [
        "import sys\n",
        "import os\n",
        "\n",
        "if SYS_PROJECT_DIR not in sys.path:\n",
        "    sys.path.append(SYS_PROJECT_DIR)\n",
        "\n",
        "from deoptima.utils import load_from_json"
      ]
    },
    {
      "cell_type": "code",
      "execution_count": 136,
      "metadata": {
        "colab": {
          "base_uri": "https://localhost:8080/",
          "height": 654
        },
        "id": "hmq55G1gV195",
        "outputId": "69223edb-0917-4250-b9e2-a8c2bbefb38b"
      },
      "outputs": [
        {
          "output_type": "display_data",
          "data": {
            "text/plain": [
              "<IPython.core.display.HTML object>"
            ],
            "text/html": [
              "<div style='font-family: Arial, sans-serif;'><p><strong style='color: #2ecc71;'>user:</strong> I&#x27;m ready to start the decision-making process.</p><p><strong style='color: #3498db;'>assistant:</strong> Great! Let&#x27;s start by defining your goal. What is the goal you are trying to achieve in an optimal way?</p><p><strong style='color: #2ecc71;'>user:</strong> Selecting the best laptop</p><p><strong style='color: #3498db;'>assistant:</strong> Now, please provide a list of options you are considering for your laptop selection. What are the different laptop models you have in mind?</p><p><strong style='color: #2ecc71;'>user:</strong> Gaming Laptop, Ultrabook, 2-in-1 Laptop</p><p><strong style='color: #3498db;'>assistant:</strong> Now, let&#x27;s define the criteria that will influence your decision in selecting the best laptop. What are the important factors you care about when choosing a laptop?</p><p><strong style='color: #2ecc71;'>user:</strong> Storage Capacity, Graphics Card, Portability</p><p><strong style='color: #3498db;'>assistant:</strong> Let&#x27;s move on to the criteria comparison list. Please provide a comparison rating for the following criteria pair: &#x27;Storage Capacity&#x27; is compared to &#x27;Graphics Card&#x27;. How would you rate their importance?</p><p><strong style='color: #2ecc71;'>user:</strong> &#x27;Storage Capacity&#x27; is Strongly Less Important than &#x27;Graphics Card&#x27;</p><p><strong style='color: #3498db;'>assistant:</strong> Let&#x27;s continue with the criteria comparison list. Please provide a comparison rating for the following criteria pair: &#x27;Storage Capacity&#x27; is compared to &#x27;Portability&#x27;. How would you rate their importance?</p><p><strong style='color: #2ecc71;'>user:</strong> &#x27;Storage Capacity&#x27; is Extremely Less Important than &#x27;Graphics Card&#x27;</p><p><strong style='color: #3498db;'>assistant:</strong> Let&#x27;s continue with the criteria comparison list. Please provide a comparison rating for the following criteria pair: &#x27;Graphics Card&#x27; is compared to &#x27;Portability&#x27;. How would you rate their importance?</p><p><strong style='color: #2ecc71;'>user:</strong> &#x27;Graphics Card&#x27; is Strongly Less Important than &#x27;Portability&#x27;</p><p><strong style='color: #3498db;'>assistant:</strong> Let&#x27;s move on to the preferences dictionary. Please provide a preference statement for the criterion &#x27;Storage Capacity&#x27; comparing &#x27;Gaming Laptop&#x27; and &#x27;Ultrabook&#x27;. How would you rate their preference?</p><p><strong style='color: #2ecc71;'>user:</strong> &#x27;Storage Capacity&#x27;: &#x27;Gaming Laptop&#x27; is Equally Preferred to &#x27;Ultrabook&#x27;</p><p><strong style='color: #3498db;'>assistant:</strong> Let&#x27;s continue with the preferences dictionary. Please provide a preference statement for the criterion &#x27;Storage Capacity&#x27; comparing &#x27;Gaming Laptop&#x27; and &#x27;2-in-1 Laptop&#x27;. How would you rate their preference?</p><p><strong style='color: #2ecc71;'>user:</strong> &#x27;Storage Capacity&#x27;: &#x27;Gaming Laptop&#x27; is Strongly Less Preferred than &#x27;2-in-1 Laptop&#x27;</p><p><strong style='color: #3498db;'>assistant:</strong> Let&#x27;s continue with the preferences dictionary. Please provide a preference statement for the criterion &#x27;Graphics Card&#x27; comparing &#x27;Gaming Laptop&#x27; and &#x27;Ultrabook&#x27;. How would you rate their preference?</p><p><strong style='color: #2ecc71;'>user:</strong> &#x27;Graphics Card&#x27;: &#x27;Gaming Laptop&#x27; is Equally Preferred to &#x27;Ultrabook&#x27;</p><p><strong style='color: #3498db;'>assistant:</strong> Let&#x27;s continue with the preferences dictionary. Please provide a preference statement for the criterion &#x27;Storage Capacity&#x27; comparing &#x27;Ultrabook&#x27; and &#x27;2-in-1 Laptop&#x27;. How would you rate their preference?</p><p><strong style='color: #2ecc71;'>user:</strong> &#x27;Storage Capacity&#x27;: &#x27;Ultrabook&#x27; is Equally Preferred to &#x27;2-in-1 Laptop&#x27;</p><p><strong style='color: #3498db;'>assistant:</strong> Let&#x27;s continue with the preferences dictionary. Please provide a preference statement for the criterion &#x27;Graphics Card&#x27; comparing &#x27;Gaming Laptop&#x27; and &#x27;2-in-1 Laptop&#x27;. How would you rate their preference?</p><p><strong style='color: #2ecc71;'>user:</strong> &#x27;Graphics Card&#x27;: &#x27;Gaming Laptop&#x27; is Equally Preferred to &#x27;2-in-1 Laptop&#x27;</p><p><strong style='color: #3498db;'>assistant:</strong> Let&#x27;s continue with the preferences dictionary. Please provide a preference statement for the criterion &#x27;Graphics Card&#x27; comparing &#x27;Ultrabook&#x27; and &#x27;2-in-1 Laptop&#x27;. How would you rate their preference?</p><p><strong style='color: #2ecc71;'>user:</strong> &#x27;Graphics Card&#x27;: &#x27;Ultrabook&#x27; is Strongly More Preferred than &#x27;2-in-1 Laptop&#x27;</p><p><strong style='color: #3498db;'>assistant:</strong> Let&#x27;s continue with the preferences dictionary. Please provide a preference statement for the criterion &#x27;Portability&#x27; comparing &#x27;Gaming Laptop&#x27; and &#x27;Ultrabook&#x27;. How would you rate their preference?</p><p><strong style='color: #2ecc71;'>user:</strong> Storage Capacity: Ultrabook is Extremely More Preferred to 2-in-1 Laptop</p></div>"
            ]
          },
          "metadata": {}
        }
      ],
      "source": [
        "conversation_input_folder = os.path.join(SYS_TESTING_DIR, \"input\")\n",
        "\n",
        "# conversation_file = \"process_1.json\n",
        "# conversation_file = \"process_4.json\"\n",
        "# conversation_file = \"start_process_1.json\"\n",
        "# conversation_file = \"start_process_2.json\"\n",
        "# conversation_file = \"assistant_stop_1.json\"\n",
        "# conversation_file = \"assistant_stop_2.json\"\n",
        "# conversation_file = \"process_test_options_processstate.json\"\n",
        "conversation_file = \"recent_1.json\"\n",
        "\n",
        "conversation = load_from_json(os.path.join(conversation_input_folder, conversation_file))\n",
        "\n",
        "from IPython.display import display, HTML\n",
        "from deoptima.utils import format_conversation\n",
        "\n",
        "html_content = format_conversation(conversation)\n",
        "display(HTML(html_content))"
      ]
    },
    {
      "cell_type": "markdown",
      "metadata": {
        "id": "OW3WJdmaVzCB"
      },
      "source": [
        "## get_process_state"
      ]
    },
    {
      "cell_type": "code",
      "execution_count": 146,
      "metadata": {
        "id": "ZOxdvkE79nij"
      },
      "outputs": [],
      "source": [
        "import sys\n",
        "import os\n",
        "\n",
        "if SYS_PROJECT_DIR not in sys.path:\n",
        "    sys.path.append(SYS_PROJECT_DIR)\n",
        "\n",
        "from deoptima.utils import conversation_to_string"
      ]
    },
    {
      "cell_type": "code",
      "execution_count": 147,
      "metadata": {
        "id": "BoOakDGI9nfM"
      },
      "outputs": [],
      "source": [
        "import os\n",
        "import yaml\n",
        "\n",
        "with open(os.path.join(SYS_SRC_DIR, 'generation_data.yaml'), 'r') as file:\n",
        "    generation_data = yaml.safe_load(file)"
      ]
    },
    {
      "cell_type": "code",
      "execution_count": 139,
      "metadata": {
        "id": "62jeSM0kwwwO"
      },
      "outputs": [],
      "source": [
        "def format_criteria_comparisions_list(actual_list, criteria_list):\n",
        "\n",
        "    from itertools import combinations\n",
        "\n",
        "    all_combinations = list(combinations(criteria_list, 2))\n",
        "\n",
        "    actual_comparisons = {\n",
        "        (comp['criterion_1'], comp['criterion_2']): comp['criteria_rating']\n",
        "        for comp in actual_list\n",
        "    }\n",
        "\n",
        "    filled_list = []\n",
        "\n",
        "    for criterion_1, criterion_2 in all_combinations:\n",
        "        comparison = {\n",
        "            'criterion_1': criterion_1,\n",
        "            'criterion_2': criterion_2,\n",
        "            'criteria_rating': 'Missing'\n",
        "        }\n",
        "        if (criterion_1, criterion_2) in actual_comparisons:\n",
        "            comparison['criteria_rating'] = actual_comparisons[(criterion_1, criterion_2)]\n",
        "        filled_list.append(comparison)\n",
        "\n",
        "    return filled_list\n",
        "\n",
        "def format_preferences_dict1(actual_dict, options_list, criteria_list):\n",
        "    import itertools\n",
        "\n",
        "    filled_dict = []\n",
        "\n",
        "    for criterion in criteria_list:\n",
        "        # Find the corresponding actual entry for this criterion, if it exists\n",
        "        actual_entry = next((item for item in actual_dict if item['criterion'] == criterion), None)\n",
        "\n",
        "        filled_preferences = []\n",
        "        for option_1, option_2 in itertools.combinations(options_list, 2):\n",
        "            # Check if actual entry exists for this specific option pair\n",
        "            if actual_entry:\n",
        "                matching_actual_pref = next(\n",
        "                    (pref for pref in actual_entry['preference_statements']\n",
        "                     if pref['option_1'] == option_1 and pref['option_2'] == option_2),\n",
        "                    None\n",
        "                )\n",
        "            else:\n",
        "                matching_actual_pref = None\n",
        "\n",
        "            # If actual preference exists, use it; otherwise, fill with \"Missing\"\n",
        "            if matching_actual_pref:\n",
        "                filled_preferences.append(matching_actual_pref)\n",
        "            else:\n",
        "                filled_preferences.append({\n",
        "                    'option_1': option_1,\n",
        "                    'option_2': option_2,\n",
        "                    'preference_rating': 'Missing'\n",
        "                })\n",
        "\n",
        "        # Add the filled preferences for the current criterion\n",
        "        filled_dict.append({\n",
        "            'criterion': criterion,\n",
        "            'preference_statements': filled_preferences\n",
        "        })\n",
        "\n",
        "    return filled_dict\n",
        "\n",
        "def format_preferences_dict2(actual_dict, options_list, criteria_list):\n",
        "    import itertools\n",
        "    filled_dict = {}\n",
        "\n",
        "    for criterion in criteria_list:\n",
        "        # Get the preference statements for this criterion\n",
        "        actual_preferences = actual_dict.get(criterion, [])\n",
        "\n",
        "        # Create a list to hold the filled preferences for this criterion\n",
        "        criterion_preferences_list = []\n",
        "\n",
        "        for option_1, option_2 in itertools.combinations(options_list, 2):\n",
        "            # Check if there is a matching preference statement for this option pair\n",
        "            matching_preference = next(\n",
        "                (pref['preference_rating'] for pref in actual_preferences\n",
        "                 if pref['option_1'] == option_1 and pref['option_2'] == option_2),\n",
        "                'Missing'  # Default to 'Missing' if no match is found\n",
        "            )\n",
        "\n",
        "            # Create a dictionary entry for this option pair\n",
        "            preference_entry = {\n",
        "                'option_1': option_1,\n",
        "                'option_2': option_2,\n",
        "                'preference_rating': matching_preference\n",
        "            }\n",
        "            criterion_preferences_list.append(preference_entry)\n",
        "\n",
        "        # Add the filled preferences for the current criterion to filled_dict\n",
        "        filled_dict[criterion] = criterion_preferences_list\n",
        "\n",
        "    return filled_dict\n"
      ]
    },
    {
      "cell_type": "code",
      "execution_count": 140,
      "metadata": {
        "id": "4Ew8kJxx99yy"
      },
      "outputs": [],
      "source": [
        "criteria_rating_list = generation_data['infos']['criteria_rating_list']\n",
        "preference_rating_list = generation_data['infos']['preference_rating_list']\n",
        "process_technical_explanation = generation_data['infos']['process_technical_explanation']\n",
        "process_technical_explanation = process_technical_explanation.format(\n",
        "    criteria_rating_list=criteria_rating_list,\n",
        "    preference_rating_list=preference_rating_list)\n",
        "get_process_state_prompt = generation_data['prompts']['get_process_state']['prompt']\n",
        "get_process_state_prompt = get_process_state_prompt.format(process_technical_explanation=process_technical_explanation)"
      ]
    },
    {
      "cell_type": "code",
      "execution_count": 141,
      "metadata": {
        "colab": {
          "base_uri": "https://localhost:8080/",
          "height": 1000
        },
        "id": "suqh7a_jt5jP",
        "outputId": "0dad27c2-61ae-4af4-ce0f-96bb15161024"
      },
      "outputs": [
        {
          "output_type": "display_data",
          "data": {
            "text/plain": [
              "<IPython.core.display.Markdown object>"
            ],
            "text/markdown": "\nProcess Technical Explanation\n=============================\n\nStep 1 - Basic Definitions: User should provide following list of definitions during conversation with Deoptima:\n\n-\tStep 1.1 Goal the user trying to achieve in optimal way\n  Examples:\n    -\tselecting the best laptop\n    -\tselecting the best destination for your vacation\n-\tStep 1.2 Options list: options (or alternatives) are the different choices or possibilities that the user can select from to achieve goal\n  Examples:\n    -\tLaptop model 1, Laptop model 2, Laptop model 3\n    -\tVacation Destination 1, Vacation Destination 2, Vacation Destination 3\n  Notation:\n    -\tn_o – number of options / options list length\n-\tStep 1.3 Criteria list: Criteria are the important factors that will influence your decision. Think of them as the things user care most about when choosing the best option.\n  Examples:\n    -\tPrice, Performance, Battery Life\n    -\tPrice, Climate, Activities\n  Notation:\n    -\tn_c – number of criteria / criteria list length\n\nStep 2 - basic definitions are set and next step is providing criteria comparision list\n\nStep 3 - Criteria Comparison List\n\nUser should assign a criteria rating to each valid criteria pair.\nValid criteria pairs are combinations of pairs from criteria list without considering the order of importance within each pair\nExample:\nFor criteria list = ['Price', 'Performance', 'Climate'], the valid criteria pairs are:\n- criterion_1 = \"Price\", criterion_2 = \"Performance\"\n- criterion_1 = \"Price\", criterion_2 = \"Climate\"\n- criterion_1 = \"Performance\", criterion_2 = \"Climate\"\n\nDuring the each comparison user should assign a rating come from following criteria rating list to a criteria pair:\n\n['Equally Important', 'Moderately More Important', 'Strongly More Important', 'Very Strongly More Important', 'Extremely More Important', 'Moderately Less Important', 'Strongly Less Important', 'Very Strongly Less Important', 'Extremely Less Important']\n\nThe valid criteria comparison statement format:\n[criterion_1]  is [criteria_rating]  to/than [criterion_2] , where : criterion_1 and criterion_2 is a valid criteria pair and criteria_rating is value comes from criteria_rating_list\nExamples: For criteria_list = ['Price', 'Performance', 'Climate'], sample criteria comparision list is:\n- criterion_1 = \"Price\", criterion_2 = \"Performance\", criteria_rating = \"Equally Important\" -> \"'Price' is Equally Important to 'Performance'\"\n- criterion_1 = \"Price\", criterion_2 = \"Climate\", criteria_rating = \"Moderately More Important\" -> \"'Price' is Moderately More Important than 'Performance'\"\n- criterion_1 = \"Performance\", criterion_2 = \"Climate\", criteria_rating = \"Extremely Less Important\" -> \"'Price' is Extremely Less Important than 'Performance'\"\n\nNotation:\n  -\tn_cc – number of criteria comparison statements / criteria comparision list length\n\nStep 4 - criteria comparisions are set and and next step is providing preferences statements.\n\nStep 5 - Preferences Dictionary\n\nPreferences dictionary contains preferences list for each criterion in criteria list.\n\nPreferences list contains a list of valid preferences statements for specific criterion.\n\nValid options pairs are combinations of pairs from options list without considering the order of importance within each pair.\nThe order between options pairs is important.\nExample: For options list = ['Laptop 1', 'Laptop 2', 'Laptop 3'], valid options pairs are:\n- option_1 = \"Laptop 1\", option_2 = \"Laptop 2\"\n- option_1 = \"Laptop 1\", option_2 = \"Laptop 3\"\n- option_1 = \"Laptop 2\", option_2 = \"Laptop 3\"\n\nThe valid preference statement format:\n[criterion]: [option_1] is [preference_rating] to [option_2], \nwhere criterion is a value from criteria list, option_1 and option_2 is a valid options pair, preferences_rating is value comes from preference_rating_list:\n\n['Equally Preferred', 'Moderately More Preferred', 'Strongly More Preferred', 'Very Strongly More Preferred', 'Extremely More Preferred', 'Moderately Less Preferred', 'Strongly Less Preferred', 'Very Strongly Less Preferred', 'Extremely Less Preferred']\n\nPreferences dictionary contains criteria in the order as they appear in the criteria list, while the preference statements follow the order of the valid options pairs.\nExample: For criteria_list = ['Price', 'Performance', 'Climate'] and options_list = ['Laptop 1', 'Laptop 2', 'Laptop 3'], sample preferences dictionary is:\n-\tcriterion = \"Price\", preferences list contains following valid preference statements:\n  --\toption_1 = \"Laptop 1\", option_2 = \"Laptop 2\", preferences_rating = \"Equally Preferred\" -> preference_statement = \"'Price': 'Laptop 1' is Equally Preferred to 'Laptop 2'\"\n  --\toption_1 = \"Laptop 1\", option_2 = \"Laptop 3\", preferences_rating = \"Moderately More Preferred\" -> preference_statement = \"'Price': 'Laptop 1' is Moderately More Preferred than 'Laptop 3'\"\n  --\toption_1 = \"Laptop 2\", option_2 = \"Laptop 3\", preferences_rating = \"Very Strongly Less Preferred\" -> preference_statement = \"'Price': 'Laptop 2' is Very Strongly Less Preferred than 'Laptop 3'\"\n-\tcriterion = \"Performance\", preferences list contains following valid preference statements:\n  --\toption_1 = \"Laptop 1\", option_2 = \"Laptop 2\", preferences_rating = \"Extremely More Preferred\" -> preference_statement = \"'Performance': 'Laptop 1' is Extremely More Preferred to 'Laptop 2'\"\n  --\toption_1 = \"Laptop 1\", option_2 = \"Laptop 3\", preferences_rating = \"Moderately Less Preferred\" -> preference_statement = \"'Performance': 'Laptop 1' is Moderately Less Preferred than 'Laptop 3'\"\n  --\toption_1 = \"Laptop 2\", option_2 = \"Laptop 3\", preferences_rating = \"Very Strongly More Preferred\" -> preference_statement = \"'Performance': 'Laptop 2' is Very Strongly More Preferred than 'Laptop 3'\"\n-\tcriterion = \"Climate\", preferences list contains following valid preference statements:\n  --\toption_1 = \"Laptop 1\", option_2 = \"Laptop 2\", preferences_rating = \"Very Strongly More Preferred\" -> preference_statement = \"'Climate': 'Laptop 1' is Very Strongly More Preferred to 'Laptop 2'\"\n  --\toption_1 = \"Laptop 1\", option_2 = \"Laptop 3\", preferences_rating = \"Moderately More Preferred\" -> preference_statement = \"'Climate': 'Laptop 1' is Moderately More Preferred than 'Laptop 3'\"\n  --\toption_1 = \"Laptop 2\", option_2 = \"Laptop 3\", preferences_rating = \"Extremely Less Preferred\" -> preference_statement = \"'Climate': 'Laptop 2' is Extremely Less Preferred than 'Laptop 3'\"\n\nNotation:\n  -\tn_oc – for givern criterion , number of preference statements / preferences list length\n\nStep 6 - all definitions are set and the solution will be prepared.\n\n\nTask\n============\n\nAnalyze input conversation between Deoptima assistant and user. During the conversation each process state component can be updated.\nYour goal is to extract the most recent values for goal, options list, criteria list, criteria comparison list and preferences dictionary in this order.\n\nWhile extracting criteria comparison list, carefully follow these steps:\n  - For each criteria pair set criteria_rating to latest value as stated in conversation. Provide a detailed step-by-step explanation to get latest value For each criteria pair.\n  - Output criteria comparison list.  \n\nWhile extracting preferences dictionary, carefully follow these steps:\n  - For each criterion and options pair set preferences_rating to latest value as stated in conversation.\n  - Output preferences dictionary.\n"
          },
          "metadata": {}
        }
      ],
      "source": [
        "from IPython.display import Markdown\n",
        "display(Markdown(f\"{get_process_state_prompt}\"))"
      ]
    },
    {
      "cell_type": "code",
      "execution_count": 142,
      "metadata": {
        "id": "0q4xxLDnUBxm"
      },
      "outputs": [],
      "source": [
        "from typing import Optional, List, Dict, Tuple\n",
        "\n",
        "def get_process_state(prompt : str, conversation: str):\n",
        "  import os\n",
        "  from pydantic import BaseModel, Field\n",
        "  from langchain_core.utils.function_calling import convert_to_openai_function\n",
        "  from langchain_openai import ChatOpenAI\n",
        "  from langchain.output_parsers.openai_functions import JsonOutputFunctionsParser\n",
        "  from langchain_core.prompts import ChatPromptTemplate\n",
        "\n",
        "  model = ChatOpenAI(model=\"gpt-4o-mini-2024-07-18\", temperature=0.0)\n",
        "\n",
        "  class Criteria_Comparision_Statement(BaseModel):\n",
        "    \"\"\"Criteria Comparision Statement.\"\"\"\n",
        "    criterion_1: str  = Field(description=\"First criterion\")\n",
        "    criterion_2: str  = Field(description=\"Second criterion\")\n",
        "    criteria_rating: str = Field(description=\"Criteria rating\")\n",
        "  class Preference_Statement(BaseModel):\n",
        "    \"\"\"Preference Statement.\"\"\"\n",
        "    option_1: str  = Field(description=\"First option\")\n",
        "    option_2: str  = Field(description=\"Second option\")\n",
        "    preference_rating: str = Field(description=\"Preference rating\")\n",
        "  class Criterion_Preference_Statement(BaseModel):\n",
        "    \"\"\"Criterion Preference Statement.\"\"\"\n",
        "    criterion: str  = Field(description=\"Criterion\")\n",
        "    preference_statements: List[Preference_Statement] = Field(description=\"Preference statements.\")\n",
        "  class Process_State(BaseModel):\n",
        "    \"\"\"Deoptima process state.\"\"\"\n",
        "    goal_name: str = Field(description=\"Goal to achieve\")\n",
        "    options_list: List[str] = Field(description=\"Options list\")\n",
        "    criteria_list:List[str] = Field(description=\"Criteria list\")\n",
        "    criteria_comparison_list:List[Criteria_Comparision_Statement] = Field(description=\"List of criteria comparision statements. Contains the most recent criteria_rating for reach criteria pair.\")\n",
        "    preferences_dict: List[Criterion_Preference_Statement] = Field(description=\"Preferences dictionary.\")\n",
        "\n",
        "  tagging_prompt = ChatPromptTemplate.from_messages([\n",
        "        (\"system\", prompt),\n",
        "        (\"human\", \"{input}\"),\n",
        "    ])\n",
        "\n",
        "  structured_llm = model.with_structured_output(Process_State)\n",
        "\n",
        "  chain = tagging_prompt | structured_llm\n",
        "\n",
        "  response = chain.invoke({\"input\": conversation})\n",
        "\n",
        "  response_dict = response.dict()\n",
        "\n",
        "  print(response_dict['criteria_comparison_list'])\n",
        "\n",
        "  response_dict['criteria_comparison_list'] = format_criteria_comparisions_list(response_dict['criteria_comparison_list'],\n",
        "                                                                       response_dict['criteria_list'])\n",
        "  preferences_dict = response_dict['preferences_dict']\n",
        "  response_dict['preferences_dict'] = {item['criterion']: item['preference_statements'] for item in preferences_dict}\n",
        "\n",
        "  response_dict['preferences_dict'] = format_preferences_dict2(response_dict['preferences_dict'],\n",
        "                                                               response_dict['options_list'],\n",
        "                                                               response_dict['criteria_list'])\n",
        "\n",
        "  return response_dict"
      ]
    },
    {
      "cell_type": "markdown",
      "source": [
        "## get_process_state - New"
      ],
      "metadata": {
        "id": "MR6LqAtGfDiw"
      }
    },
    {
      "cell_type": "code",
      "source": [
        "criteria_rating_list = generation_data['infos']['criteria_rating_list']\n",
        "preference_rating_list = generation_data['infos']['preference_rating_list']\n",
        "process_technical_explanation = generation_data['infos']['process_technical_explanation']\n",
        "process_technical_explanation = process_technical_explanation.format(\n",
        "    criteria_rating_list=criteria_rating_list,\n",
        "    preference_rating_list=preference_rating_list)\n",
        "get_process_state_prompt = generation_data['prompts']['get_process_state']['prompt_conversation']\n",
        "get_process_state_prompt = get_process_state_prompt.format(process_technical_explanation=process_technical_explanation,\n",
        "                                                           conversation = \"{conversation}\")"
      ],
      "metadata": {
        "id": "n0iIAOAzeetm"
      },
      "execution_count": 155,
      "outputs": []
    },
    {
      "cell_type": "code",
      "source": [
        "  from IPython.display import Markdown\n",
        "  display(Markdown(f\"{get_process_state_prompt}\"))"
      ],
      "metadata": {
        "colab": {
          "base_uri": "https://localhost:8080/",
          "height": 1000
        },
        "id": "BjOJnpQZimi4",
        "outputId": "c991e3dc-8fce-4e6b-9f68-1e760655b985"
      },
      "execution_count": 156,
      "outputs": [
        {
          "output_type": "display_data",
          "data": {
            "text/plain": [
              "<IPython.core.display.Markdown object>"
            ],
            "text/markdown": "\nProcess Technical Explanation\n=============================\n\nStep 1 - Basic Definitions: User should provide following list of definitions during conversation with Deoptima:\n\n-\tStep 1.1 Goal the user trying to achieve in optimal way\n  Examples:\n    -\tselecting the best laptop\n    -\tselecting the best destination for your vacation\n-\tStep 1.2 Options list: options (or alternatives) are the different choices or possibilities that the user can select from to achieve goal\n  Examples:\n    -\tLaptop model 1, Laptop model 2, Laptop model 3\n    -\tVacation Destination 1, Vacation Destination 2, Vacation Destination 3\n  Notation:\n    -\tn_o – number of options / options list length\n-\tStep 1.3 Criteria list: Criteria are the important factors that will influence your decision. Think of them as the things user care most about when choosing the best option.\n  Examples:\n    -\tPrice, Performance, Battery Life\n    -\tPrice, Climate, Activities\n  Notation:\n    -\tn_c – number of criteria / criteria list length\n\nStep 2 - basic definitions are set and next step is providing criteria comparision list\n\nStep 3 - Criteria Comparison List\n\nUser should assign a criteria rating to each valid criteria pair.\nValid criteria pairs are combinations of pairs from criteria list without considering the order of importance within each pair\nExample:\nFor criteria list = ['Price', 'Performance', 'Climate'], the valid criteria pairs are:\n- criterion_1 = \"Price\", criterion_2 = \"Performance\"\n- criterion_1 = \"Price\", criterion_2 = \"Climate\"\n- criterion_1 = \"Performance\", criterion_2 = \"Climate\"\n\nDuring the each comparison user should assign a rating come from following criteria rating list to a criteria pair:\n\n['Equally Important', 'Moderately More Important', 'Strongly More Important', 'Very Strongly More Important', 'Extremely More Important', 'Moderately Less Important', 'Strongly Less Important', 'Very Strongly Less Important', 'Extremely Less Important']\n\nThe valid criteria comparison statement format:\n[criterion_1]  is [criteria_rating]  to/than [criterion_2] , where : criterion_1 and criterion_2 is a valid criteria pair and criteria_rating is value comes from criteria_rating_list\nExamples: For criteria_list = ['Price', 'Performance', 'Climate'], sample criteria comparision list is:\n- criterion_1 = \"Price\", criterion_2 = \"Performance\", criteria_rating = \"Equally Important\" -> \"'Price' is Equally Important to 'Performance'\"\n- criterion_1 = \"Price\", criterion_2 = \"Climate\", criteria_rating = \"Moderately More Important\" -> \"'Price' is Moderately More Important than 'Performance'\"\n- criterion_1 = \"Performance\", criterion_2 = \"Climate\", criteria_rating = \"Extremely Less Important\" -> \"'Price' is Extremely Less Important than 'Performance'\"\n\nNotation:\n  -\tn_cc – number of criteria comparison statements / criteria comparision list length\n\nStep 4 - criteria comparisions are set and and next step is providing preferences statements.\n\nStep 5 - Preferences Dictionary\n\nPreferences dictionary contains preferences list for each criterion in criteria list.\n\nPreferences list contains a list of valid preferences statements for specific criterion.\n\nValid options pairs are combinations of pairs from options list without considering the order of importance within each pair.\nThe order between options pairs is important.\nExample: For options list = ['Laptop 1', 'Laptop 2', 'Laptop 3'], valid options pairs are:\n- option_1 = \"Laptop 1\", option_2 = \"Laptop 2\"\n- option_1 = \"Laptop 1\", option_2 = \"Laptop 3\"\n- option_1 = \"Laptop 2\", option_2 = \"Laptop 3\"\n\nThe valid preference statement format:\n[criterion]: [option_1] is [preference_rating] to [option_2], \nwhere criterion is a value from criteria list, option_1 and option_2 is a valid options pair, preferences_rating is value comes from preference_rating_list:\n\n['Equally Preferred', 'Moderately More Preferred', 'Strongly More Preferred', 'Very Strongly More Preferred', 'Extremely More Preferred', 'Moderately Less Preferred', 'Strongly Less Preferred', 'Very Strongly Less Preferred', 'Extremely Less Preferred']\n\nPreferences dictionary contains criteria in the order as they appear in the criteria list, while the preference statements follow the order of the valid options pairs.\nExample: For criteria_list = ['Price', 'Performance', 'Climate'] and options_list = ['Laptop 1', 'Laptop 2', 'Laptop 3'], sample preferences dictionary is:\n-\tcriterion = \"Price\", preferences list contains following valid preference statements:\n  --\toption_1 = \"Laptop 1\", option_2 = \"Laptop 2\", preferences_rating = \"Equally Preferred\" -> preference_statement = \"'Price': 'Laptop 1' is Equally Preferred to 'Laptop 2'\"\n  --\toption_1 = \"Laptop 1\", option_2 = \"Laptop 3\", preferences_rating = \"Moderately More Preferred\" -> preference_statement = \"'Price': 'Laptop 1' is Moderately More Preferred than 'Laptop 3'\"\n  --\toption_1 = \"Laptop 2\", option_2 = \"Laptop 3\", preferences_rating = \"Very Strongly Less Preferred\" -> preference_statement = \"'Price': 'Laptop 2' is Very Strongly Less Preferred than 'Laptop 3'\"\n-\tcriterion = \"Performance\", preferences list contains following valid preference statements:\n  --\toption_1 = \"Laptop 1\", option_2 = \"Laptop 2\", preferences_rating = \"Extremely More Preferred\" -> preference_statement = \"'Performance': 'Laptop 1' is Extremely More Preferred to 'Laptop 2'\"\n  --\toption_1 = \"Laptop 1\", option_2 = \"Laptop 3\", preferences_rating = \"Moderately Less Preferred\" -> preference_statement = \"'Performance': 'Laptop 1' is Moderately Less Preferred than 'Laptop 3'\"\n  --\toption_1 = \"Laptop 2\", option_2 = \"Laptop 3\", preferences_rating = \"Very Strongly More Preferred\" -> preference_statement = \"'Performance': 'Laptop 2' is Very Strongly More Preferred than 'Laptop 3'\"\n-\tcriterion = \"Climate\", preferences list contains following valid preference statements:\n  --\toption_1 = \"Laptop 1\", option_2 = \"Laptop 2\", preferences_rating = \"Very Strongly More Preferred\" -> preference_statement = \"'Climate': 'Laptop 1' is Very Strongly More Preferred to 'Laptop 2'\"\n  --\toption_1 = \"Laptop 1\", option_2 = \"Laptop 3\", preferences_rating = \"Moderately More Preferred\" -> preference_statement = \"'Climate': 'Laptop 1' is Moderately More Preferred than 'Laptop 3'\"\n  --\toption_1 = \"Laptop 2\", option_2 = \"Laptop 3\", preferences_rating = \"Extremely Less Preferred\" -> preference_statement = \"'Climate': 'Laptop 2' is Extremely Less Preferred than 'Laptop 3'\"\n\nNotation:\n  -\tn_oc – for givern criterion , number of preference statements / preferences list length\n\nStep 6 - all definitions are set and the solution will be prepared.\n\n\nConversation\n============\n\n{conversation}\n\nTask\n============\n\nAnalyze input conversation between Deoptima assistant and user. During the conversation each process state component can be updated.\nYour goal is to extract the most recent values for goal, options list, criteria list, criteria comparison list and preferences dictionary in this order.\n\nWhile extracting criteria comparison list, carefully follow these steps:\n  - For each criteria pair set criteria_rating to latest value as stated in conversation. Provide a detailed step-by-step explanation to get latest value For each criteria pair.\n  - Output criteria comparison list.  \n\nWhile extracting preferences dictionary, carefully follow these steps:\n  - For each criterion and options pair set preferences_rating to latest value as stated in conversation.\n  - Output preferences dictionary.\n"
          },
          "metadata": {}
        }
      ]
    },
    {
      "cell_type": "code",
      "source": [
        "from typing import Optional, List, Dict, Tuple\n",
        "\n",
        "def get_process_state(prompt : str, conversation: str):\n",
        "  import os\n",
        "  from pydantic import BaseModel, Field\n",
        "  from langchain_core.utils.function_calling import convert_to_openai_function\n",
        "  from langchain_openai import ChatOpenAI\n",
        "  from langchain.output_parsers.openai_functions import JsonOutputFunctionsParser\n",
        "  from langchain_core.prompts import ChatPromptTemplate\n",
        "\n",
        "  model = ChatOpenAI(model=\"gpt-4o-mini-2024-07-18\", temperature=0.5)\n",
        "\n",
        "  class Criteria_Comparision_Statement(BaseModel):\n",
        "    \"\"\"Criteria Comparision Statement.\"\"\"\n",
        "    criterion_1: str  = Field(description=\"First criterion\")\n",
        "    criterion_2: str  = Field(description=\"Second criterion\")\n",
        "    criteria_rating: str = Field(description=\"Criteria rating\")\n",
        "  class Preference_Statement(BaseModel):\n",
        "    \"\"\"Preference Statement.\"\"\"\n",
        "    option_1: str  = Field(description=\"First option\")\n",
        "    option_2: str  = Field(description=\"Second option\")\n",
        "    preference_rating: str = Field(description=\"Preference rating\")\n",
        "  class Criterion_Preference_Statement(BaseModel):\n",
        "    \"\"\"Criterion Preference Statement.\"\"\"\n",
        "    criterion: str  = Field(description=\"Criterion\")\n",
        "    preference_statements: List[Preference_Statement] = Field(description=\"Preference statements.\")\n",
        "  class Process_State(BaseModel):\n",
        "    \"\"\"Deoptima process state.\"\"\"\n",
        "    goal_name: str = Field(description=\"Goal to achieve\")\n",
        "    options_list: List[str] = Field(description=\"Options list\")\n",
        "    criteria_list:List[str] = Field(description=\"Criteria list\")\n",
        "    criteria_comparison_list:List[Criteria_Comparision_Statement] = Field(description=\"List of criteria comparision statements. Contains the most recent criteria_rating for reach criteria pair.\")\n",
        "    preferences_dict: List[Criterion_Preference_Statement] = Field(description=\"Preferences dictionary.\")\n",
        "\n",
        "  tagging_prompt = ChatPromptTemplate.from_messages([\n",
        "        (\"system\", prompt),\n",
        "        (\"human\", \"{input}\"),\n",
        "    ])\n",
        "\n",
        "  structured_llm = model.with_structured_output(Process_State)\n",
        "\n",
        "  prompt = prompt.format(conversation = conversation)\n",
        "\n",
        "  response = structured_llm.invoke(prompt)\n",
        "\n",
        "  response_dict = response.dict()\n",
        "\n",
        "  # print(response_dict['criteria_comparison_list'])\n",
        "\n",
        "  # response_dict['criteria_comparison_list'] = format_criteria_comparisions_list(response_dict['criteria_comparison_list'],\n",
        "  #                                                                      response_dict['criteria_list'])\n",
        "  # preferences_dict = response_dict['preferences_dict']\n",
        "  # response_dict['preferences_dict'] = {item['criterion']: item['preference_statements'] for item in preferences_dict}\n",
        "\n",
        "  # response_dict['preferences_dict'] = format_preferences_dict2(response_dict['preferences_dict'],\n",
        "  #                                                              response_dict['options_list'],\n",
        "  #                                                              response_dict['criteria_list'])\n",
        "\n",
        "  return response_dict, prompt"
      ],
      "metadata": {
        "id": "z9Aa1L53dkgo"
      },
      "execution_count": 165,
      "outputs": []
    },
    {
      "cell_type": "code",
      "execution_count": 166,
      "metadata": {
        "colab": {
          "base_uri": "https://localhost:8080/"
        },
        "id": "KJxVt-c5sW4K",
        "outputId": "125c34ec-250d-4275-d12d-568543ae4fbe"
      },
      "outputs": [
        {
          "output_type": "execute_result",
          "data": {
            "text/plain": [
              "{'goal_name': 'Selecting the best laptop',\n",
              " 'options_list': ['Gaming Laptop', 'Ultrabook', '2-in-1 Laptop'],\n",
              " 'criteria_list': ['Storage Capacity', 'Graphics Card', 'Portability'],\n",
              " 'criteria_comparison_list': [{'criterion_1': 'Storage Capacity',\n",
              "   'criterion_2': 'Graphics Card',\n",
              "   'criteria_rating': 'Strongly Less Important'},\n",
              "  {'criterion_1': 'Storage Capacity',\n",
              "   'criterion_2': 'Portability',\n",
              "   'criteria_rating': 'Extremely Less Important'},\n",
              "  {'criterion_1': 'Graphics Card',\n",
              "   'criterion_2': 'Portability',\n",
              "   'criteria_rating': 'Strongly Less Important'}],\n",
              " 'preferences_dict': [{'criterion': 'Storage Capacity',\n",
              "   'preference_statements': [{'option_1': 'Gaming Laptop',\n",
              "     'option_2': 'Ultrabook',\n",
              "     'preference_rating': 'Equally Preferred'},\n",
              "    {'option_1': 'Gaming Laptop',\n",
              "     'option_2': '2-in-1 Laptop',\n",
              "     'preference_rating': 'Strongly Less Preferred'},\n",
              "    {'option_1': 'Ultrabook',\n",
              "     'option_2': '2-in-1 Laptop',\n",
              "     'preference_rating': 'Equally Preferred'}]},\n",
              "  {'criterion': 'Graphics Card',\n",
              "   'preference_statements': [{'option_1': 'Gaming Laptop',\n",
              "     'option_2': 'Ultrabook',\n",
              "     'preference_rating': 'Equally Preferred'},\n",
              "    {'option_1': 'Gaming Laptop',\n",
              "     'option_2': '2-in-1 Laptop',\n",
              "     'preference_rating': 'Equally Preferred'},\n",
              "    {'option_1': 'Ultrabook',\n",
              "     'option_2': '2-in-1 Laptop',\n",
              "     'preference_rating': 'Strongly More Preferred'}]},\n",
              "  {'criterion': 'Portability',\n",
              "   'preference_statements': [{'option_1': 'Gaming Laptop',\n",
              "     'option_2': 'Ultrabook',\n",
              "     'preference_rating': 'Extremely More Preferred'},\n",
              "    {'option_1': 'Gaming Laptop',\n",
              "     'option_2': '2-in-1 Laptop',\n",
              "     'preference_rating': 'Extremely More Preferred'},\n",
              "    {'option_1': 'Ultrabook',\n",
              "     'option_2': '2-in-1 Laptop',\n",
              "     'preference_rating': 'Extremely More Preferred'}]}]}"
            ]
          },
          "metadata": {},
          "execution_count": 166
        }
      ],
      "source": [
        "process_state, prompt = get_process_state(get_process_state_prompt, conversation_to_string(conversation))\n",
        "process_state"
      ]
    },
    {
      "cell_type": "code",
      "source": [
        "print(prompt)"
      ],
      "metadata": {
        "colab": {
          "base_uri": "https://localhost:8080/"
        },
        "id": "stZmALKFjtsb",
        "outputId": "eda7d173-dacb-4a72-a39f-88b7f86e603b"
      },
      "execution_count": 163,
      "outputs": [
        {
          "output_type": "stream",
          "name": "stdout",
          "text": [
            "\n",
            "Process Technical Explanation\n",
            "=============================\n",
            "\n",
            "Step 1 - Basic Definitions: User should provide following list of definitions during conversation with Deoptima:\n",
            "\n",
            "-\tStep 1.1 Goal the user trying to achieve in optimal way\n",
            "  Examples:\n",
            "    -\tselecting the best laptop\n",
            "    -\tselecting the best destination for your vacation\n",
            "-\tStep 1.2 Options list: options (or alternatives) are the different choices or possibilities that the user can select from to achieve goal\n",
            "  Examples:\n",
            "    -\tLaptop model 1, Laptop model 2, Laptop model 3\n",
            "    -\tVacation Destination 1, Vacation Destination 2, Vacation Destination 3\n",
            "  Notation:\n",
            "    -\tn_o – number of options / options list length\n",
            "-\tStep 1.3 Criteria list: Criteria are the important factors that will influence your decision. Think of them as the things user care most about when choosing the best option.\n",
            "  Examples:\n",
            "    -\tPrice, Performance, Battery Life\n",
            "    -\tPrice, Climate, Activities\n",
            "  Notation:\n",
            "    -\tn_c – number of criteria / criteria list length\n",
            "\n",
            "Step 2 - basic definitions are set and next step is providing criteria comparision list\n",
            "\n",
            "Step 3 - Criteria Comparison List\n",
            "\n",
            "User should assign a criteria rating to each valid criteria pair.\n",
            "Valid criteria pairs are combinations of pairs from criteria list without considering the order of importance within each pair\n",
            "Example:\n",
            "For criteria list = ['Price', 'Performance', 'Climate'], the valid criteria pairs are:\n",
            "- criterion_1 = \"Price\", criterion_2 = \"Performance\"\n",
            "- criterion_1 = \"Price\", criterion_2 = \"Climate\"\n",
            "- criterion_1 = \"Performance\", criterion_2 = \"Climate\"\n",
            "\n",
            "During the each comparison user should assign a rating come from following criteria rating list to a criteria pair:\n",
            "\n",
            "['Equally Important', 'Moderately More Important', 'Strongly More Important', 'Very Strongly More Important', 'Extremely More Important', 'Moderately Less Important', 'Strongly Less Important', 'Very Strongly Less Important', 'Extremely Less Important']\n",
            "\n",
            "The valid criteria comparison statement format:\n",
            "[criterion_1]  is [criteria_rating]  to/than [criterion_2] , where : criterion_1 and criterion_2 is a valid criteria pair and criteria_rating is value comes from criteria_rating_list\n",
            "Examples: For criteria_list = ['Price', 'Performance', 'Climate'], sample criteria comparision list is:\n",
            "- criterion_1 = \"Price\", criterion_2 = \"Performance\", criteria_rating = \"Equally Important\" -> \"'Price' is Equally Important to 'Performance'\"\n",
            "- criterion_1 = \"Price\", criterion_2 = \"Climate\", criteria_rating = \"Moderately More Important\" -> \"'Price' is Moderately More Important than 'Performance'\"\n",
            "- criterion_1 = \"Performance\", criterion_2 = \"Climate\", criteria_rating = \"Extremely Less Important\" -> \"'Price' is Extremely Less Important than 'Performance'\"\n",
            "\n",
            "Notation:\n",
            "  -\tn_cc – number of criteria comparison statements / criteria comparision list length\n",
            "\n",
            "Step 4 - criteria comparisions are set and and next step is providing preferences statements.\n",
            "\n",
            "Step 5 - Preferences Dictionary\n",
            "\n",
            "Preferences dictionary contains preferences list for each criterion in criteria list.\n",
            "\n",
            "Preferences list contains a list of valid preferences statements for specific criterion.\n",
            "\n",
            "Valid options pairs are combinations of pairs from options list without considering the order of importance within each pair.\n",
            "The order between options pairs is important.\n",
            "Example: For options list = ['Laptop 1', 'Laptop 2', 'Laptop 3'], valid options pairs are:\n",
            "- option_1 = \"Laptop 1\", option_2 = \"Laptop 2\"\n",
            "- option_1 = \"Laptop 1\", option_2 = \"Laptop 3\"\n",
            "- option_1 = \"Laptop 2\", option_2 = \"Laptop 3\"\n",
            "\n",
            "The valid preference statement format:\n",
            "[criterion]: [option_1] is [preference_rating] to [option_2], \n",
            "where criterion is a value from criteria list, option_1 and option_2 is a valid options pair, preferences_rating is value comes from preference_rating_list:\n",
            "\n",
            "['Equally Preferred', 'Moderately More Preferred', 'Strongly More Preferred', 'Very Strongly More Preferred', 'Extremely More Preferred', 'Moderately Less Preferred', 'Strongly Less Preferred', 'Very Strongly Less Preferred', 'Extremely Less Preferred']\n",
            "\n",
            "Preferences dictionary contains criteria in the order as they appear in the criteria list, while the preference statements follow the order of the valid options pairs.\n",
            "Example: For criteria_list = ['Price', 'Performance', 'Climate'] and options_list = ['Laptop 1', 'Laptop 2', 'Laptop 3'], sample preferences dictionary is:\n",
            "-\tcriterion = \"Price\", preferences list contains following valid preference statements:\n",
            "  --\toption_1 = \"Laptop 1\", option_2 = \"Laptop 2\", preferences_rating = \"Equally Preferred\" -> preference_statement = \"'Price': 'Laptop 1' is Equally Preferred to 'Laptop 2'\"\n",
            "  --\toption_1 = \"Laptop 1\", option_2 = \"Laptop 3\", preferences_rating = \"Moderately More Preferred\" -> preference_statement = \"'Price': 'Laptop 1' is Moderately More Preferred than 'Laptop 3'\"\n",
            "  --\toption_1 = \"Laptop 2\", option_2 = \"Laptop 3\", preferences_rating = \"Very Strongly Less Preferred\" -> preference_statement = \"'Price': 'Laptop 2' is Very Strongly Less Preferred than 'Laptop 3'\"\n",
            "-\tcriterion = \"Performance\", preferences list contains following valid preference statements:\n",
            "  --\toption_1 = \"Laptop 1\", option_2 = \"Laptop 2\", preferences_rating = \"Extremely More Preferred\" -> preference_statement = \"'Performance': 'Laptop 1' is Extremely More Preferred to 'Laptop 2'\"\n",
            "  --\toption_1 = \"Laptop 1\", option_2 = \"Laptop 3\", preferences_rating = \"Moderately Less Preferred\" -> preference_statement = \"'Performance': 'Laptop 1' is Moderately Less Preferred than 'Laptop 3'\"\n",
            "  --\toption_1 = \"Laptop 2\", option_2 = \"Laptop 3\", preferences_rating = \"Very Strongly More Preferred\" -> preference_statement = \"'Performance': 'Laptop 2' is Very Strongly More Preferred than 'Laptop 3'\"\n",
            "-\tcriterion = \"Climate\", preferences list contains following valid preference statements:\n",
            "  --\toption_1 = \"Laptop 1\", option_2 = \"Laptop 2\", preferences_rating = \"Very Strongly More Preferred\" -> preference_statement = \"'Climate': 'Laptop 1' is Very Strongly More Preferred to 'Laptop 2'\"\n",
            "  --\toption_1 = \"Laptop 1\", option_2 = \"Laptop 3\", preferences_rating = \"Moderately More Preferred\" -> preference_statement = \"'Climate': 'Laptop 1' is Moderately More Preferred than 'Laptop 3'\"\n",
            "  --\toption_1 = \"Laptop 2\", option_2 = \"Laptop 3\", preferences_rating = \"Extremely Less Preferred\" -> preference_statement = \"'Climate': 'Laptop 2' is Extremely Less Preferred than 'Laptop 3'\"\n",
            "\n",
            "Notation:\n",
            "  -\tn_oc – for givern criterion , number of preference statements / preferences list length\n",
            "\n",
            "Step 6 - all definitions are set and the solution will be prepared.\n",
            "\n",
            "\n",
            "Conversation\n",
            "============\n",
            "\n",
            "user: I'm ready to start the decision-making process.\n",
            "assistant: Great! Let's start by defining your goal. What is the goal you are trying to achieve in an optimal way?\n",
            "user: Selecting the best laptop\n",
            "assistant: Now, please provide a list of options you are considering for your laptop selection. What are the different laptop models you have in mind?\n",
            "user: Gaming Laptop, Ultrabook, 2-in-1 Laptop\n",
            "assistant: Now, let's define the criteria that will influence your decision in selecting the best laptop. What are the important factors you care about when choosing a laptop?\n",
            "user: Storage Capacity, Graphics Card, Portability\n",
            "assistant: Let's move on to the criteria comparison list. Please provide a comparison rating for the following criteria pair: 'Storage Capacity' is compared to 'Graphics Card'. How would you rate their importance?\n",
            "user: 'Storage Capacity' is Strongly Less Important than 'Graphics Card'\n",
            "assistant: Let's continue with the criteria comparison list. Please provide a comparison rating for the following criteria pair: 'Storage Capacity' is compared to 'Portability'. How would you rate their importance?\n",
            "user: 'Storage Capacity' is Extremely Less Important than 'Graphics Card'\n",
            "assistant: Let's continue with the criteria comparison list. Please provide a comparison rating for the following criteria pair: 'Graphics Card' is compared to 'Portability'. How would you rate their importance?\n",
            "user: 'Graphics Card' is Strongly Less Important than 'Portability'\n",
            "assistant: Let's move on to the preferences dictionary. Please provide a preference statement for the criterion 'Storage Capacity' comparing 'Gaming Laptop' and 'Ultrabook'. How would you rate their preference?\n",
            "user: 'Storage Capacity': 'Gaming Laptop' is Equally Preferred to 'Ultrabook'\n",
            "assistant: Let's continue with the preferences dictionary. Please provide a preference statement for the criterion 'Storage Capacity' comparing 'Gaming Laptop' and '2-in-1 Laptop'. How would you rate their preference?\n",
            "user: 'Storage Capacity': 'Gaming Laptop' is Strongly Less Preferred than '2-in-1 Laptop'\n",
            "assistant: Let's continue with the preferences dictionary. Please provide a preference statement for the criterion 'Graphics Card' comparing 'Gaming Laptop' and 'Ultrabook'. How would you rate their preference?\n",
            "user: 'Graphics Card': 'Gaming Laptop' is Equally Preferred to 'Ultrabook'\n",
            "assistant: Let's continue with the preferences dictionary. Please provide a preference statement for the criterion 'Storage Capacity' comparing 'Ultrabook' and '2-in-1 Laptop'. How would you rate their preference?\n",
            "user: 'Storage Capacity': 'Ultrabook' is Equally Preferred to '2-in-1 Laptop'\n",
            "assistant: Let's continue with the preferences dictionary. Please provide a preference statement for the criterion 'Graphics Card' comparing 'Gaming Laptop' and '2-in-1 Laptop'. How would you rate their preference?\n",
            "user: 'Graphics Card': 'Gaming Laptop' is Equally Preferred to '2-in-1 Laptop'\n",
            "assistant: Let's continue with the preferences dictionary. Please provide a preference statement for the criterion 'Graphics Card' comparing 'Ultrabook' and '2-in-1 Laptop'. How would you rate their preference?\n",
            "user: 'Graphics Card': 'Ultrabook' is Strongly More Preferred than '2-in-1 Laptop'\n",
            "assistant: Let's continue with the preferences dictionary. Please provide a preference statement for the criterion 'Portability' comparing 'Gaming Laptop' and 'Ultrabook'. How would you rate their preference?\n",
            "user: Storage Capacity: Ultrabook is Extremely More Preferred to 2-in-1 Laptop\n",
            "\n",
            "Task\n",
            "============\n",
            "\n",
            "Analyze input conversation between Deoptima assistant and user. During the conversation each process state component can be updated.\n",
            "Your goal is to extract the most recent values for goal, options list, criteria list, criteria comparison list and preferences dictionary in this order.\n",
            "\n",
            "While extracting criteria comparison list, carefully follow these steps:\n",
            "  - For each criteria pair set criteria_rating to latest value as stated in conversation. Provide a detailed step-by-step explanation to get latest value For each criteria pair.\n",
            "  - Output criteria comparison list.  \n",
            "\n",
            "While extracting preferences dictionary, carefully follow these steps:\n",
            "  - For each criterion and options pair set preferences_rating to latest value as stated in conversation.\n",
            "  - Output preferences dictionary.\n",
            "\n"
          ]
        }
      ]
    },
    {
      "cell_type": "code",
      "source": [
        "print(conversation_to_string(conversation))"
      ],
      "metadata": {
        "colab": {
          "base_uri": "https://localhost:8080/"
        },
        "id": "DmU75uadUsAa",
        "outputId": "af781df4-71aa-4e76-e597-9a91bec1617b"
      },
      "execution_count": 154,
      "outputs": [
        {
          "output_type": "stream",
          "name": "stdout",
          "text": [
            "user: I'm ready to start the decision-making process.\n",
            "assistant: Great! Let's start by defining your goal. What is the goal you are trying to achieve in an optimal way?\n",
            "user: Selecting the best laptop\n",
            "assistant: Now, please provide a list of options you are considering for your laptop selection. What are the different laptop models you have in mind?\n",
            "user: Gaming Laptop, Ultrabook, 2-in-1 Laptop\n",
            "assistant: Now, let's define the criteria that will influence your decision in selecting the best laptop. What are the important factors you care about when choosing a laptop?\n",
            "user: Storage Capacity, Graphics Card, Portability\n",
            "assistant: Let's move on to the criteria comparison list. Please provide a comparison rating for the following criteria pair: 'Storage Capacity' is compared to 'Graphics Card'. How would you rate their importance?\n",
            "user: 'Storage Capacity' is Strongly Less Important than 'Graphics Card'\n",
            "assistant: Let's continue with the criteria comparison list. Please provide a comparison rating for the following criteria pair: 'Storage Capacity' is compared to 'Portability'. How would you rate their importance?\n",
            "user: 'Storage Capacity' is Extremely Less Important than 'Graphics Card'\n",
            "assistant: Let's continue with the criteria comparison list. Please provide a comparison rating for the following criteria pair: 'Graphics Card' is compared to 'Portability'. How would you rate their importance?\n",
            "user: 'Graphics Card' is Strongly Less Important than 'Portability'\n",
            "assistant: Let's move on to the preferences dictionary. Please provide a preference statement for the criterion 'Storage Capacity' comparing 'Gaming Laptop' and 'Ultrabook'. How would you rate their preference?\n",
            "user: 'Storage Capacity': 'Gaming Laptop' is Equally Preferred to 'Ultrabook'\n",
            "assistant: Let's continue with the preferences dictionary. Please provide a preference statement for the criterion 'Storage Capacity' comparing 'Gaming Laptop' and '2-in-1 Laptop'. How would you rate their preference?\n",
            "user: 'Storage Capacity': 'Gaming Laptop' is Strongly Less Preferred than '2-in-1 Laptop'\n",
            "assistant: Let's continue with the preferences dictionary. Please provide a preference statement for the criterion 'Graphics Card' comparing 'Gaming Laptop' and 'Ultrabook'. How would you rate their preference?\n",
            "user: 'Graphics Card': 'Gaming Laptop' is Equally Preferred to 'Ultrabook'\n",
            "assistant: Let's continue with the preferences dictionary. Please provide a preference statement for the criterion 'Storage Capacity' comparing 'Ultrabook' and '2-in-1 Laptop'. How would you rate their preference?\n",
            "user: 'Storage Capacity': 'Ultrabook' is Equally Preferred to '2-in-1 Laptop'\n",
            "assistant: Let's continue with the preferences dictionary. Please provide a preference statement for the criterion 'Graphics Card' comparing 'Gaming Laptop' and '2-in-1 Laptop'. How would you rate their preference?\n",
            "user: 'Graphics Card': 'Gaming Laptop' is Equally Preferred to '2-in-1 Laptop'\n",
            "assistant: Let's continue with the preferences dictionary. Please provide a preference statement for the criterion 'Graphics Card' comparing 'Ultrabook' and '2-in-1 Laptop'. How would you rate their preference?\n",
            "user: 'Graphics Card': 'Ultrabook' is Strongly More Preferred than '2-in-1 Laptop'\n",
            "assistant: Let's continue with the preferences dictionary. Please provide a preference statement for the criterion 'Portability' comparing 'Gaming Laptop' and 'Ultrabook'. How would you rate their preference?\n",
            "user: Storage Capacity: Ultrabook is Extremely More Preferred to 2-in-1 Laptop\n"
          ]
        }
      ]
    },
    {
      "cell_type": "code",
      "execution_count": 151,
      "metadata": {
        "colab": {
          "base_uri": "https://localhost:8080/"
        },
        "id": "guQBLibPiCsh",
        "outputId": "357b98e3-0d28-4e3f-9525-3d2efc449cee"
      },
      "outputs": [
        {
          "output_type": "execute_result",
          "data": {
            "text/plain": [
              "{'goal_name': 'Selecting the best laptop',\n",
              " 'options_list': ['Gaming Laptop', 'Ultrabook', '2-in-1 Laptop'],\n",
              " 'criteria_list': ['Storage Capacity', 'Graphics Card', 'Portability'],\n",
              " 'criteria_comparison_list': [{'criterion_1': 'Storage Capacity',\n",
              "   'criterion_2': 'Graphics Card',\n",
              "   'criteria_rating': 'Strongly Less Important'},\n",
              "  {'criterion_1': 'Storage Capacity',\n",
              "   'criterion_2': 'Portability',\n",
              "   'criteria_rating': 'Extremely Less Important'},\n",
              "  {'criterion_1': 'Graphics Card',\n",
              "   'criterion_2': 'Portability',\n",
              "   'criteria_rating': 'Strongly Less Important'}],\n",
              " 'preferences_dict': [{'criterion': 'Storage Capacity',\n",
              "   'preference_statements': [{'option_1': 'Gaming Laptop',\n",
              "     'option_2': 'Ultrabook',\n",
              "     'preference_rating': 'Equally Preferred'},\n",
              "    {'option_1': 'Gaming Laptop',\n",
              "     'option_2': '2-in-1 Laptop',\n",
              "     'preference_rating': 'Strongly Less Preferred'},\n",
              "    {'option_1': 'Ultrabook',\n",
              "     'option_2': '2-in-1 Laptop',\n",
              "     'preference_rating': 'Equally Preferred'}]},\n",
              "  {'criterion': 'Graphics Card',\n",
              "   'preference_statements': [{'option_1': 'Gaming Laptop',\n",
              "     'option_2': 'Ultrabook',\n",
              "     'preference_rating': 'Equally Preferred'},\n",
              "    {'option_1': 'Gaming Laptop',\n",
              "     'option_2': '2-in-1 Laptop',\n",
              "     'preference_rating': 'Equally Preferred'},\n",
              "    {'option_1': 'Ultrabook',\n",
              "     'option_2': '2-in-1 Laptop',\n",
              "     'preference_rating': 'Strongly More Preferred'}]},\n",
              "  {'criterion': 'Portability',\n",
              "   'preference_statements': [{'option_1': 'Gaming Laptop',\n",
              "     'option_2': 'Ultrabook',\n",
              "     'preference_rating': 'Extremely More Preferred'},\n",
              "    {'option_1': 'Gaming Laptop',\n",
              "     'option_2': '2-in-1 Laptop',\n",
              "     'preference_rating': 'Not Provided'},\n",
              "    {'option_1': 'Ultrabook',\n",
              "     'option_2': '2-in-1 Laptop',\n",
              "     'preference_rating': 'Not Provided'}]}]}"
            ]
          },
          "metadata": {},
          "execution_count": 151
        }
      ],
      "source": [
        "process_state"
      ]
    },
    {
      "cell_type": "code",
      "execution_count": 24,
      "metadata": {
        "colab": {
          "base_uri": "https://localhost:8080/",
          "height": 240
        },
        "id": "fW6Pt1I3r72j",
        "outputId": "77d628c4-7ef6-4c8d-9282-d209888c830c"
      },
      "outputs": [
        {
          "output_type": "stream",
          "name": "stderr",
          "text": [
            "deoptima - INFO     : 2024-10-27 00:10:29,598 : get_process_state finished: {'goal_name': 'Selecting the best laptop', 'options_list': ['Gaming Laptop', 'Ultrabook', '2-in-1 Laptop'], 'criteria_list': ['Storage Capacity', 'Graphics Card', 'Portability'], 'criteria_comparison_list': [{'criterion_1': 'Storage Capacity', 'criterion_2': 'Graphics Card', 'criteria_rating': 'Strongly Less Important'}, {'criterion_1': 'Storage Capacity', 'criterion_2': 'Portability', 'criteria_rating': 'Extremely Less Important'}, {'criterion_1': 'Graphics Card', 'criterion_2': 'Portability', 'criteria_rating': 'Strongly Less Important'}], 'preferences_dict': {'Storage Capacity': [{'option_1': 'Gaming Laptop', 'option_2': 'Ultrabook', 'preference_rating': 'Equally Preferred'}, {'option_1': 'Gaming Laptop', 'option_2': '2-in-1 Laptop', 'preference_rating': 'Strongly Less Preferred'}, {'option_1': 'Ultrabook', 'option_2': '2-in-1 Laptop', 'preference_rating': 'Equally Preferred'}], 'Graphics Card': [{'option_1': 'Gaming Laptop', 'option_2': 'Ultrabook', 'preference_rating': 'Equally Preferred'}, {'option_1': 'Gaming Laptop', 'option_2': '2-in-1 Laptop', 'preference_rating': 'Equally Preferred'}, {'option_1': 'Ultrabook', 'option_2': '2-in-1 Laptop', 'preference_rating': 'Strongly More Preferred'}], 'Portability': [{'option_1': 'Gaming Laptop', 'option_2': 'Ultrabook', 'preference_rating': 'Extremely More Preferred'}, {'option_1': 'Gaming Laptop', 'option_2': '2-in-1 Laptop', 'preference_rating': 'Extremely More Preferred'}, {'option_1': 'Ultrabook', 'option_2': '2-in-1 Laptop', 'preference_rating': 'Extremely More Preferred'}]}}\n"
          ]
        },
        {
          "output_type": "stream",
          "name": "stdout",
          "text": [
            "Function runtime: 5747.88 msec\n"
          ]
        },
        {
          "output_type": "display_data",
          "data": {
            "text/plain": [
              "<IPython.core.display.Markdown object>"
            ],
            "text/markdown": "{'goal_name': 'Selecting the best laptop', 'options_list': ['Gaming Laptop', 'Ultrabook', '2-in-1 Laptop'], 'criteria_list': ['Storage Capacity', 'Graphics Card', 'Portability'], 'criteria_comparison_list': [{'criterion_1': 'Storage Capacity', 'criterion_2': 'Graphics Card', 'criteria_rating': 'Strongly Less Important'}, {'criterion_1': 'Storage Capacity', 'criterion_2': 'Portability', 'criteria_rating': 'Extremely Less Important'}, {'criterion_1': 'Graphics Card', 'criterion_2': 'Portability', 'criteria_rating': 'Strongly Less Important'}], 'preferences_dict': {'Storage Capacity': [{'option_1': 'Gaming Laptop', 'option_2': 'Ultrabook', 'preference_rating': 'Equally Preferred'}, {'option_1': 'Gaming Laptop', 'option_2': '2-in-1 Laptop', 'preference_rating': 'Strongly Less Preferred'}, {'option_1': 'Ultrabook', 'option_2': '2-in-1 Laptop', 'preference_rating': 'Equally Preferred'}], 'Graphics Card': [{'option_1': 'Gaming Laptop', 'option_2': 'Ultrabook', 'preference_rating': 'Equally Preferred'}, {'option_1': 'Gaming Laptop', 'option_2': '2-in-1 Laptop', 'preference_rating': 'Equally Preferred'}, {'option_1': 'Ultrabook', 'option_2': '2-in-1 Laptop', 'preference_rating': 'Strongly More Preferred'}], 'Portability': [{'option_1': 'Gaming Laptop', 'option_2': 'Ultrabook', 'preference_rating': 'Extremely More Preferred'}, {'option_1': 'Gaming Laptop', 'option_2': '2-in-1 Laptop', 'preference_rating': 'Extremely More Preferred'}, {'option_1': 'Ultrabook', 'option_2': '2-in-1 Laptop', 'preference_rating': 'Extremely More Preferred'}]}}"
          },
          "metadata": {}
        }
      ],
      "source": [
        "import time\n",
        "start_time = time.time()\n",
        "\n",
        "try:\n",
        "  process_state = get_process_state(get_process_state_prompt, conversation_to_string(conversation))\n",
        "except Exception as e:\n",
        "  deoptima_logger.error(f\"Error in {get_process_state.__name__}: {e}\", exc_info=True)\n",
        "else:\n",
        "  deoptima_logger.info(f\"{get_process_state.__name__} finished: {str(process_state)}\")\n",
        "\n",
        "end_time = time.time()\n",
        "runtime_ms = (end_time - start_time) * 1000\n",
        "print(f\"Function runtime: {runtime_ms:.2f} msec\")\n",
        "\n",
        "from IPython.display import Markdown\n",
        "display(Markdown(f\"{process_state}\"))"
      ]
    },
    {
      "cell_type": "code",
      "execution_count": 25,
      "metadata": {
        "colab": {
          "base_uri": "https://localhost:8080/",
          "height": 654
        },
        "id": "CIDoJBcd9Fdg",
        "outputId": "2b88af92-5f79-4f58-a4e5-e7c74656278b"
      },
      "outputs": [
        {
          "output_type": "display_data",
          "data": {
            "text/plain": [
              "<IPython.core.display.HTML object>"
            ],
            "text/html": [
              "<div style='font-family: Arial, sans-serif;'><p><strong style='color: #2ecc71;'>user:</strong> I&#x27;m ready to start the decision-making process.</p><p><strong style='color: #3498db;'>assistant:</strong> Great! Let&#x27;s start by defining your goal. What is the goal you are trying to achieve in an optimal way?</p><p><strong style='color: #2ecc71;'>user:</strong> Selecting the best laptop</p><p><strong style='color: #3498db;'>assistant:</strong> Now, please provide a list of options you are considering for your laptop selection. What are the different laptop models you have in mind?</p><p><strong style='color: #2ecc71;'>user:</strong> Gaming Laptop, Ultrabook, 2-in-1 Laptop</p><p><strong style='color: #3498db;'>assistant:</strong> Now, let&#x27;s define the criteria that will influence your decision in selecting the best laptop. What are the important factors you care about when choosing a laptop?</p><p><strong style='color: #2ecc71;'>user:</strong> Storage Capacity, Graphics Card, Portability</p><p><strong style='color: #3498db;'>assistant:</strong> Let&#x27;s move on to the criteria comparison list. Please provide a comparison rating for the following criteria pair: &#x27;Storage Capacity&#x27; is compared to &#x27;Graphics Card&#x27;. How would you rate their importance?</p><p><strong style='color: #2ecc71;'>user:</strong> &#x27;Storage Capacity&#x27; is Strongly Less Important than &#x27;Graphics Card&#x27;</p><p><strong style='color: #3498db;'>assistant:</strong> Let&#x27;s continue with the criteria comparison list. Please provide a comparison rating for the following criteria pair: &#x27;Storage Capacity&#x27; is compared to &#x27;Portability&#x27;. How would you rate their importance?</p><p><strong style='color: #2ecc71;'>user:</strong> Storage Capacity is Extremely Less Important than Graphics Card</p><p><strong style='color: #3498db;'>assistant:</strong> Let&#x27;s continue with the criteria comparison list. Please provide a comparison rating for the following criteria pair: &#x27;Graphics Card&#x27; is compared to &#x27;Portability&#x27;. How would you rate their importance?</p><p><strong style='color: #2ecc71;'>user:</strong> &#x27;Graphics Card&#x27; is Strongly Less Important than &#x27;Portability&#x27;</p><p><strong style='color: #3498db;'>assistant:</strong> Let&#x27;s move on to the preferences dictionary. Please provide a preference statement for the criterion &#x27;Storage Capacity&#x27; comparing &#x27;Gaming Laptop&#x27; and &#x27;Ultrabook&#x27;. How would you rate their preference?</p><p><strong style='color: #2ecc71;'>user:</strong> &#x27;Storage Capacity&#x27;: &#x27;Gaming Laptop&#x27; is Equally Preferred to &#x27;Ultrabook&#x27;</p><p><strong style='color: #3498db;'>assistant:</strong> Let&#x27;s continue with the preferences dictionary. Please provide a preference statement for the criterion &#x27;Storage Capacity&#x27; comparing &#x27;Gaming Laptop&#x27; and &#x27;2-in-1 Laptop&#x27;. How would you rate their preference?</p><p><strong style='color: #2ecc71;'>user:</strong> &#x27;Storage Capacity&#x27;: &#x27;Gaming Laptop&#x27; is Strongly Less Preferred than &#x27;2-in-1 Laptop&#x27;</p><p><strong style='color: #3498db;'>assistant:</strong> Let&#x27;s continue with the preferences dictionary. Please provide a preference statement for the criterion &#x27;Graphics Card&#x27; comparing &#x27;Gaming Laptop&#x27; and &#x27;Ultrabook&#x27;. How would you rate their preference?</p><p><strong style='color: #2ecc71;'>user:</strong> &#x27;Graphics Card&#x27;: &#x27;Gaming Laptop&#x27; is Equally Preferred to &#x27;Ultrabook&#x27;</p><p><strong style='color: #3498db;'>assistant:</strong> Let&#x27;s continue with the preferences dictionary. Please provide a preference statement for the criterion &#x27;Storage Capacity&#x27; comparing &#x27;Ultrabook&#x27; and &#x27;2-in-1 Laptop&#x27;. How would you rate their preference?</p><p><strong style='color: #2ecc71;'>user:</strong> &#x27;Storage Capacity&#x27;: &#x27;Ultrabook&#x27; is Equally Preferred to &#x27;2-in-1 Laptop&#x27;</p><p><strong style='color: #3498db;'>assistant:</strong> Let&#x27;s continue with the preferences dictionary. Please provide a preference statement for the criterion &#x27;Graphics Card&#x27; comparing &#x27;Gaming Laptop&#x27; and &#x27;2-in-1 Laptop&#x27;. How would you rate their preference?</p><p><strong style='color: #2ecc71;'>user:</strong> &#x27;Graphics Card&#x27;: &#x27;Gaming Laptop&#x27; is Equally Preferred to &#x27;2-in-1 Laptop&#x27;</p><p><strong style='color: #3498db;'>assistant:</strong> Let&#x27;s continue with the preferences dictionary. Please provide a preference statement for the criterion &#x27;Graphics Card&#x27; comparing &#x27;Ultrabook&#x27; and &#x27;2-in-1 Laptop&#x27;. How would you rate their preference?</p><p><strong style='color: #2ecc71;'>user:</strong> &#x27;Graphics Card&#x27;: &#x27;Ultrabook&#x27; is Strongly More Preferred than &#x27;2-in-1 Laptop&#x27;</p><p><strong style='color: #3498db;'>assistant:</strong> Let&#x27;s continue with the preferences dictionary. Please provide a preference statement for the criterion &#x27;Portability&#x27; comparing &#x27;Gaming Laptop&#x27; and &#x27;Ultrabook&#x27;. How would you rate their preference?</p><p><strong style='color: #2ecc71;'>user:</strong> Storage Capacity: Ultrabook is Extremely More Preferred to 2-in-1 Laptop</p></div>"
            ]
          },
          "metadata": {}
        }
      ],
      "source": [
        "from IPython.display import display, HTML\n",
        "from deoptima.utils import format_conversation\n",
        "\n",
        "html_content = format_conversation(conversation)\n",
        "display(HTML(html_content))"
      ]
    },
    {
      "cell_type": "markdown",
      "metadata": {
        "id": "kV3MAUgqCgtz"
      },
      "source": [
        "## get_response_data"
      ]
    },
    {
      "cell_type": "code",
      "execution_count": 26,
      "metadata": {
        "id": "jOfTKgVIJW85"
      },
      "outputs": [],
      "source": [
        "import sys\n",
        "import os\n",
        "\n",
        "if SYS_PROJECT_DIR not in sys.path:\n",
        "    sys.path.append(SYS_PROJECT_DIR)\n",
        "\n",
        "from deoptima.utils import conversation_to_string\n",
        "from deoptima.utils import process_state_to_string"
      ]
    },
    {
      "cell_type": "code",
      "execution_count": 27,
      "metadata": {
        "id": "R_AEBzn8JW9B"
      },
      "outputs": [],
      "source": [
        "import os\n",
        "import yaml\n",
        "\n",
        "with open(os.path.join(SYS_SRC_DIR, 'generation_data.yaml'), 'r') as file:\n",
        "    generation_data = yaml.safe_load(file)"
      ]
    },
    {
      "cell_type": "code",
      "execution_count": 28,
      "metadata": {
        "colab": {
          "base_uri": "https://localhost:8080/"
        },
        "id": "Vvw18VM2T-Wb",
        "outputId": "0ff3571c-bd37-43e6-ce27-43034d80fbaf"
      },
      "outputs": [
        {
          "output_type": "execute_result",
          "data": {
            "text/plain": [
              "{'goal_name': 'Selecting the best laptop',\n",
              " 'options_list': ['Gaming Laptop', 'Ultrabook', '2-in-1 Laptop'],\n",
              " 'criteria_list': ['Storage Capacity', 'Graphics Card', 'Portability'],\n",
              " 'criteria_comparison_list': [{'criterion_1': 'Storage Capacity',\n",
              "   'criterion_2': 'Graphics Card',\n",
              "   'criteria_rating': 'Strongly Less Important'},\n",
              "  {'criterion_1': 'Storage Capacity',\n",
              "   'criterion_2': 'Portability',\n",
              "   'criteria_rating': 'Extremely Less Important'},\n",
              "  {'criterion_1': 'Graphics Card',\n",
              "   'criterion_2': 'Portability',\n",
              "   'criteria_rating': 'Strongly Less Important'}],\n",
              " 'preferences_dict': {'Storage Capacity': [{'option_1': 'Gaming Laptop',\n",
              "    'option_2': 'Ultrabook',\n",
              "    'preference_rating': 'Equally Preferred'},\n",
              "   {'option_1': 'Gaming Laptop',\n",
              "    'option_2': '2-in-1 Laptop',\n",
              "    'preference_rating': 'Strongly Less Preferred'},\n",
              "   {'option_1': 'Ultrabook',\n",
              "    'option_2': '2-in-1 Laptop',\n",
              "    'preference_rating': 'Equally Preferred'}],\n",
              "  'Graphics Card': [{'option_1': 'Gaming Laptop',\n",
              "    'option_2': 'Ultrabook',\n",
              "    'preference_rating': 'Equally Preferred'},\n",
              "   {'option_1': 'Gaming Laptop',\n",
              "    'option_2': '2-in-1 Laptop',\n",
              "    'preference_rating': 'Equally Preferred'},\n",
              "   {'option_1': 'Ultrabook',\n",
              "    'option_2': '2-in-1 Laptop',\n",
              "    'preference_rating': 'Strongly More Preferred'}],\n",
              "  'Portability': [{'option_1': 'Gaming Laptop',\n",
              "    'option_2': 'Ultrabook',\n",
              "    'preference_rating': 'Extremely More Preferred'},\n",
              "   {'option_1': 'Gaming Laptop',\n",
              "    'option_2': '2-in-1 Laptop',\n",
              "    'preference_rating': 'Extremely More Preferred'},\n",
              "   {'option_1': 'Ultrabook',\n",
              "    'option_2': '2-in-1 Laptop',\n",
              "    'preference_rating': 'Extremely More Preferred'}]}}"
            ]
          },
          "metadata": {},
          "execution_count": 28
        }
      ],
      "source": [
        "process_state"
      ]
    },
    {
      "cell_type": "code",
      "execution_count": 29,
      "metadata": {
        "colab": {
          "base_uri": "https://localhost:8080/",
          "height": 122
        },
        "id": "P0UdlZjLwtVA",
        "outputId": "8a20f2c9-da70-4b39-851f-f34d1daec0dc"
      },
      "outputs": [
        {
          "output_type": "execute_result",
          "data": {
            "text/plain": [
              "'---  ---\\ngoal_name:\\n\\tSelecting the best laptop\\noptions_list:\\n\\t- Gaming Laptop\\n\\t- Ultrabook\\n\\t- 2-in-1 Laptop\\ncriteria_list:\\n\\t- Storage Capacity\\n\\t- Graphics Card\\n\\t- Portability\\ncriteria_comparison_list:\\n\\t- criterion_1: Storage Capacity, criterion_2: Graphics Card, criteria_rating: Strongly Less Important\\n\\t- criterion_1: Storage Capacity, criterion_2: Portability, criteria_rating: Extremely Less Important\\n\\t- criterion_1: Graphics Card, criterion_2: Portability, criteria_rating: Strongly Less Important\\npreferences_dict:\\n\\t- Storage Capacity:\\n\\t\\t-- option_1: Gaming Laptop, option_2: Ultrabook, preference_rating: Equally Preferred\\n\\t\\t-- option_1: Gaming Laptop, option_2: 2-in-1 Laptop, preference_rating: Strongly Less Preferred\\n\\t\\t-- option_1: Ultrabook, option_2: 2-in-1 Laptop, preference_rating: Equally Preferred\\n\\t- Graphics Card:\\n\\t\\t-- option_1: Gaming Laptop, option_2: Ultrabook, preference_rating: Equally Preferred\\n\\t\\t-- option_1: Gaming Laptop, option_2: 2-in-1 Laptop, preference_rating: Equally Preferred\\n\\t\\t-- option_1: Ultrabook, option_2: 2-in-1 Laptop, preference_rating: Strongly More Preferred\\n\\t- Portability:\\n\\t\\t-- option_1: Gaming Laptop, option_2: Ultrabook, preference_rating: Extremely More Preferred\\n\\t\\t-- option_1: Gaming Laptop, option_2: 2-in-1 Laptop, preference_rating: Extremely More Preferred\\n\\t\\t-- option_1: Ultrabook, option_2: 2-in-1 Laptop, preference_rating: Extremely More Preferred'"
            ],
            "application/vnd.google.colaboratory.intrinsic+json": {
              "type": "string"
            }
          },
          "metadata": {},
          "execution_count": 29
        }
      ],
      "source": [
        "process_state_to_string(process_state)"
      ]
    },
    {
      "cell_type": "code",
      "execution_count": 30,
      "metadata": {
        "id": "E1nPu70YJW9C"
      },
      "outputs": [],
      "source": [
        "criteria_rating_list = generation_data['infos']['criteria_rating_list']\n",
        "preference_rating_list = generation_data['infos']['preference_rating_list']\n",
        "process_technical_explanation = generation_data['infos']['process_technical_explanation']\n",
        "process_technical_explanation = process_technical_explanation.format(\n",
        "    criteria_rating_list=criteria_rating_list,\n",
        "    preference_rating_list=preference_rating_list)\n",
        "get_response_data_prompt = generation_data['prompts']['get_response_data']['prompt']\n",
        "get_response_data_prompt = get_response_data_prompt.format(process_technical_explanation=process_technical_explanation,\n",
        "                                                           conversation = conversation_to_string(conversation),\n",
        "                                                           process_state=process_state_to_string(process_state))"
      ]
    },
    {
      "cell_type": "code",
      "execution_count": 31,
      "metadata": {
        "colab": {
          "base_uri": "https://localhost:8080/",
          "height": 1000
        },
        "id": "PEeSv9XLvwYU",
        "outputId": "eaeb89e3-d691-40a9-f3b8-c20314fedfb2"
      },
      "outputs": [
        {
          "output_type": "display_data",
          "data": {
            "text/plain": [
              "<IPython.core.display.Markdown object>"
            ],
            "text/markdown": "Process Technical Explanation\n=============================\n\nStep 1 - Basic Definitions: User should provide following list of definitions during conversation with Deoptima:\n\n-\tStep 1.1 Goal the user trying to achieve in optimal way\n  Examples:\n    -\tselecting the best laptop\n    -\tselecting the best destination for your vacation\n-\tStep 1.2 Options list: options (or alternatives) are the different choices or possibilities that the user can select from to achieve goal\n  Examples:\n    -\tLaptop model 1, Laptop model 2, Laptop model 3\n    -\tVacation Destination 1, Vacation Destination 2, Vacation Destination 3\n  Notation:\n    -\tn_o – number of options / options list length\n-\tStep 1.3 Criteria list: Criteria are the important factors that will influence your decision. Think of them as the things user care most about when choosing the best option.\n  Examples:\n    -\tPrice, Performance, Battery Life\n    -\tPrice, Climate, Activities\n  Notation:\n    -\tn_c – number of criteria / criteria list length\n\nStep 2 - basic definitions are set and next step is providing criteria comparision list\n\nStep 3 - Criteria Comparison List\n\nUser should assign a criteria rating to each valid criteria pair.\nValid criteria pairs are combinations of pairs from criteria list without considering the order of importance within each pair\nExample:\nFor criteria list = ['Price', 'Performance', 'Climate'], the valid criteria pairs are:\n- criterion_1 = \"Price\", criterion_2 = \"Performance\"\n- criterion_1 = \"Price\", criterion_2 = \"Climate\"\n- criterion_1 = \"Performance\", criterion_2 = \"Climate\"\n\nDuring the each comparison user should assign a rating come from following criteria rating list to a criteria pair:\n\n['Equally Important', 'Moderately More Important', 'Strongly More Important', 'Very Strongly More Important', 'Extremely More Important', 'Moderately Less Important', 'Strongly Less Important', 'Very Strongly Less Important', 'Extremely Less Important']\n\nThe valid criteria comparison statement format:\n[criterion_1]  is [criteria_rating]  to/than [criterion_2] , where : criterion_1 and criterion_2 is a valid criteria pair and criteria_rating is value comes from criteria_rating_list\nExamples: For criteria_list = ['Price', 'Performance', 'Climate'], sample criteria comparision list is:\n- criterion_1 = \"Price\", criterion_2 = \"Performance\", criteria_rating = \"Equally Important\" -> \"'Price' is Equally Important to 'Performance'\"\n- criterion_1 = \"Price\", criterion_2 = \"Climate\", criteria_rating = \"Moderately More Important\" -> \"'Price' is Moderately More Important than 'Performance'\"\n- criterion_1 = \"Performance\", criterion_2 = \"Climate\", criteria_rating = \"Extremely Less Important\" -> \"'Price' is Extremely Less Important than 'Performance'\"\n\nNotation:\n  -\tn_cc – number of criteria comparison statements / criteria comparision list length\n\nStep 4 - criteria comparisions are set and and next step is providing preferences statements.\n\nStep 5 - Preferences Dictionary\n\nPreferences dictionary contains preferences list for each criterion in criteria list.\n\nPreferences list contains a list of valid preferences statements for specific criterion.\n\nValid options pairs are combinations of pairs from options list without considering the order of importance within each pair.\nThe order between options pairs is important.\nExample: For options list = ['Laptop 1', 'Laptop 2', 'Laptop 3'], valid options pairs are:\n- option_1 = \"Laptop 1\", option_2 = \"Laptop 2\"\n- option_1 = \"Laptop 1\", option_2 = \"Laptop 3\"\n- option_1 = \"Laptop 2\", option_2 = \"Laptop 3\"\n\nThe valid preference statement format:\n[criterion]: [option_1] is [preference_rating] to [option_2], \nwhere criterion is a value from criteria list, option_1 and option_2 is a valid options pair, preferences_rating is value comes from preference_rating_list:\n\n['Equally Preferred', 'Moderately More Preferred', 'Strongly More Preferred', 'Very Strongly More Preferred', 'Extremely More Preferred', 'Moderately Less Preferred', 'Strongly Less Preferred', 'Very Strongly Less Preferred', 'Extremely Less Preferred']\n\nPreferences dictionary contains criteria in the order as they appear in the criteria list, while the preference statements follow the order of the valid options pairs.\nExample: For criteria_list = ['Price', 'Performance', 'Climate'] and options_list = ['Laptop 1', 'Laptop 2', 'Laptop 3'], sample preferences dictionary is:\n-\tcriterion = \"Price\", preferences list contains following valid preference statements:\n  --\toption_1 = \"Laptop 1\", option_2 = \"Laptop 2\", preferences_rating = \"Equally Preferred\" -> preference_statement = \"'Price': 'Laptop 1' is Equally Preferred to 'Laptop 2'\"\n  --\toption_1 = \"Laptop 1\", option_2 = \"Laptop 3\", preferences_rating = \"Moderately More Preferred\" -> preference_statement = \"'Price': 'Laptop 1' is Moderately More Preferred than 'Laptop 3'\"\n  --\toption_1 = \"Laptop 2\", option_2 = \"Laptop 3\", preferences_rating = \"Very Strongly Less Preferred\" -> preference_statement = \"'Price': 'Laptop 2' is Very Strongly Less Preferred than 'Laptop 3'\"\n-\tcriterion = \"Performance\", preferences list contains following valid preference statements:\n  --\toption_1 = \"Laptop 1\", option_2 = \"Laptop 2\", preferences_rating = \"Extremely More Preferred\" -> preference_statement = \"'Performance': 'Laptop 1' is Extremely More Preferred to 'Laptop 2'\"\n  --\toption_1 = \"Laptop 1\", option_2 = \"Laptop 3\", preferences_rating = \"Moderately Less Preferred\" -> preference_statement = \"'Performance': 'Laptop 1' is Moderately Less Preferred than 'Laptop 3'\"\n  --\toption_1 = \"Laptop 2\", option_2 = \"Laptop 3\", preferences_rating = \"Very Strongly More Preferred\" -> preference_statement = \"'Performance': 'Laptop 2' is Very Strongly More Preferred than 'Laptop 3'\"\n-\tcriterion = \"Climate\", preferences list contains following valid preference statements:\n  --\toption_1 = \"Laptop 1\", option_2 = \"Laptop 2\", preferences_rating = \"Very Strongly More Preferred\" -> preference_statement = \"'Climate': 'Laptop 1' is Very Strongly More Preferred to 'Laptop 2'\"\n  --\toption_1 = \"Laptop 1\", option_2 = \"Laptop 3\", preferences_rating = \"Moderately More Preferred\" -> preference_statement = \"'Climate': 'Laptop 1' is Moderately More Preferred than 'Laptop 3'\"\n  --\toption_1 = \"Laptop 2\", option_2 = \"Laptop 3\", preferences_rating = \"Extremely Less Preferred\" -> preference_statement = \"'Climate': 'Laptop 2' is Extremely Less Preferred than 'Laptop 3'\"\n\nNotation:\n  -\tn_oc – for givern criterion , number of preference statements / preferences list length\n\nStep 6 - all definitions are set and the solution will be prepared.\n\n\nConversation\n============\n\nuser: I'm ready to start the decision-making process.\nassistant: Great! Let's start by defining your goal. What is the goal you are trying to achieve in an optimal way?\nuser: Selecting the best laptop\nassistant: Now, please provide a list of options you are considering for your laptop selection. What are the different laptop models you have in mind?\nuser: Gaming Laptop, Ultrabook, 2-in-1 Laptop\nassistant: Now, let's define the criteria that will influence your decision in selecting the best laptop. What are the important factors you care about when choosing a laptop?\nuser: Storage Capacity, Graphics Card, Portability\nassistant: Let's move on to the criteria comparison list. Please provide a comparison rating for the following criteria pair: 'Storage Capacity' is compared to 'Graphics Card'. How would you rate their importance?\nuser: 'Storage Capacity' is Strongly Less Important than 'Graphics Card'\nassistant: Let's continue with the criteria comparison list. Please provide a comparison rating for the following criteria pair: 'Storage Capacity' is compared to 'Portability'. How would you rate their importance?\nuser: Storage Capacity is Extremely Less Important than Graphics Card\nassistant: Let's continue with the criteria comparison list. Please provide a comparison rating for the following criteria pair: 'Graphics Card' is compared to 'Portability'. How would you rate their importance?\nuser: 'Graphics Card' is Strongly Less Important than 'Portability'\nassistant: Let's move on to the preferences dictionary. Please provide a preference statement for the criterion 'Storage Capacity' comparing 'Gaming Laptop' and 'Ultrabook'. How would you rate their preference?\nuser: 'Storage Capacity': 'Gaming Laptop' is Equally Preferred to 'Ultrabook'\nassistant: Let's continue with the preferences dictionary. Please provide a preference statement for the criterion 'Storage Capacity' comparing 'Gaming Laptop' and '2-in-1 Laptop'. How would you rate their preference?\nuser: 'Storage Capacity': 'Gaming Laptop' is Strongly Less Preferred than '2-in-1 Laptop'\nassistant: Let's continue with the preferences dictionary. Please provide a preference statement for the criterion 'Graphics Card' comparing 'Gaming Laptop' and 'Ultrabook'. How would you rate their preference?\nuser: 'Graphics Card': 'Gaming Laptop' is Equally Preferred to 'Ultrabook'\nassistant: Let's continue with the preferences dictionary. Please provide a preference statement for the criterion 'Storage Capacity' comparing 'Ultrabook' and '2-in-1 Laptop'. How would you rate their preference?\nuser: 'Storage Capacity': 'Ultrabook' is Equally Preferred to '2-in-1 Laptop'\nassistant: Let's continue with the preferences dictionary. Please provide a preference statement for the criterion 'Graphics Card' comparing 'Gaming Laptop' and '2-in-1 Laptop'. How would you rate their preference?\nuser: 'Graphics Card': 'Gaming Laptop' is Equally Preferred to '2-in-1 Laptop'\nassistant: Let's continue with the preferences dictionary. Please provide a preference statement for the criterion 'Graphics Card' comparing 'Ultrabook' and '2-in-1 Laptop'. How would you rate their preference?\nuser: 'Graphics Card': 'Ultrabook' is Strongly More Preferred than '2-in-1 Laptop'\nassistant: Let's continue with the preferences dictionary. Please provide a preference statement for the criterion 'Portability' comparing 'Gaming Laptop' and 'Ultrabook'. How would you rate their preference?\nuser: Storage Capacity: Ultrabook is Extremely More Preferred to 2-in-1 Laptop\n\nProcess State\n=============\n\n---  ---\ngoal_name:\n\tSelecting the best laptop\noptions_list:\n\t- Gaming Laptop\n\t- Ultrabook\n\t- 2-in-1 Laptop\ncriteria_list:\n\t- Storage Capacity\n\t- Graphics Card\n\t- Portability\ncriteria_comparison_list:\n\t- criterion_1: Storage Capacity, criterion_2: Graphics Card, criteria_rating: Strongly Less Important\n\t- criterion_1: Storage Capacity, criterion_2: Portability, criteria_rating: Extremely Less Important\n\t- criterion_1: Graphics Card, criterion_2: Portability, criteria_rating: Strongly Less Important\npreferences_dict:\n\t- Storage Capacity:\n\t\t-- option_1: Gaming Laptop, option_2: Ultrabook, preference_rating: Equally Preferred\n\t\t-- option_1: Gaming Laptop, option_2: 2-in-1 Laptop, preference_rating: Strongly Less Preferred\n\t\t-- option_1: Ultrabook, option_2: 2-in-1 Laptop, preference_rating: Equally Preferred\n\t- Graphics Card:\n\t\t-- option_1: Gaming Laptop, option_2: Ultrabook, preference_rating: Equally Preferred\n\t\t-- option_1: Gaming Laptop, option_2: 2-in-1 Laptop, preference_rating: Equally Preferred\n\t\t-- option_1: Ultrabook, option_2: 2-in-1 Laptop, preference_rating: Strongly More Preferred\n\t- Portability:\n\t\t-- option_1: Gaming Laptop, option_2: Ultrabook, preference_rating: Extremely More Preferred\n\t\t-- option_1: Gaming Laptop, option_2: 2-in-1 Laptop, preference_rating: Extremely More Preferred\n\t\t-- option_1: Ultrabook, option_2: 2-in-1 Laptop, preference_rating: Extremely More Preferred\n\nTask\n====\n\n1. Analyze \"Process State\" and \"Process Technical Explanation\" carefully to determine what should be the best next assistant response to user \n   to fill the most critical missing definitions in \"Process State\" based on \"Process Technical Explanation\" using guidelines below and set the response as assistant_message. \n   Guidelines:\n    - Next assistant response should deal with one definition at time: goal, options list, criteria list, specific criteria comparision statement, or specific preference statement.\n    - Next assistant response shouldn't expose any information about content of \"Process Technical Explanation\".\n    - Next assistant response polite and, when it makes sense, encourages user to go on with the process.\n    - Next assistant response shouldn't contain any example answers.\n    - Next assistant response should enclose options or criteria names with single quotes.\n    - Continue to Step 6 in \"Process Technical Explanation\" if there are no preference statements with preference_rating = 'Missing' in \"Process State\".\n2. If you can conclude from assistant_message that all definitions are set and the solution will be prepared? Yes/No . Set your answer as response_finished.\n3. If response_finished is \"No\": your goal is to provide a list of possible user responses using guidelines below and set these responses to user_examples.\n   Guidelines:\n    - If assistant_message asks user to provide a goal, generate 3 possible goals to achieve.\n    - If assistant_message asks user to provide an options list, generate a list of 3 strings, where each string consisting of 3 possible comma-delimited options. Ensure that each option name is capitalized.\n    - If assistant_message asks user to provide a criteria list, generate a list of 3 strings, where each string consisting of 3 possible comma-delimited criteria. Ensure that each criteria name is capitalized.\n    - If assistant_message asks user to provide a criteria comparision statement, generate a list of 3 valid criteria comparision statements following their format based on criteria pair mentioned in the assistant_message.\n    - If assistant_message asks user to provide a preference statement, generate a list of 3 valid preference statements following their format based on criterion and options pair mentioned in the assistant_message.\n    - Each possible user response shouldn't expose any information about content of \"Process Technical Explanation\".\n    - Each possible user response shouldn't contain periods.\n    - Each possible user response should enclose options or criteria names with single quotes.\n4. If response_finished is \"Yes\" , set user_examples as empty list.\n\nTask Output: format the output as a JSON object as follows:\n```json\n  assistant_message: ?\n  user_examples: ?\n  response_finished: ?\n```\n"
          },
          "metadata": {}
        }
      ],
      "source": [
        "from IPython.display import Markdown\n",
        "display(Markdown(f\"{get_response_data_prompt}\"))"
      ]
    },
    {
      "cell_type": "code",
      "execution_count": 32,
      "metadata": {
        "id": "OSyd7AkyJW9C"
      },
      "outputs": [],
      "source": [
        "from typing import Optional, Literal, List, Dict, Tuple\n",
        "\n",
        "def get_response_data(prompt : str) -> Dict[str, str | List[str]]:\n",
        "  import os\n",
        "  from langchain_openai import ChatOpenAI\n",
        "  from pydantic import BaseModel, Field\n",
        "  from typing import List, Literal\n",
        "  from langchain_core.prompts import ChatPromptTemplate\n",
        "  from langchain_core.prompts import PromptTemplate\n",
        "  from langchain_core.output_parsers import StrOutputParser\n",
        "  from langchain.output_parsers.openai_functions import JsonOutputFunctionsParser\n",
        "  from langchain_core.utils.function_calling import convert_to_openai_function\n",
        "\n",
        "  model = ChatOpenAI(model=\"gpt-4o-mini-2024-07-18\", temperature=0.1)\n",
        "\n",
        "  output_parser = StrOutputParser()\n",
        "\n",
        "  prompt = PromptTemplate(\n",
        "    template=prompt,\n",
        "  )\n",
        "\n",
        "  chain = prompt | model | output_parser\n",
        "\n",
        "  generation = chain.invoke({'prompt' : prompt})\n",
        "\n",
        "  import json\n",
        "\n",
        "  start_string = \"```json\" ; end_string = \"```\"\n",
        "  start_index = generation.find(start_string) + len(start_string)\n",
        "  end_index = generation.rfind(end_string) - 1\n",
        "\n",
        "  json_string = generation[start_index:end_index]\n",
        "  response_data = json.loads(json_string)\n",
        "\n",
        "  return response_data\n"
      ]
    },
    {
      "cell_type": "code",
      "execution_count": 33,
      "metadata": {
        "id": "6vEHmiatJW9C"
      },
      "outputs": [],
      "source": [
        "response_data = get_response_data(get_response_data_prompt)"
      ]
    },
    {
      "cell_type": "code",
      "execution_count": 34,
      "metadata": {
        "colab": {
          "base_uri": "https://localhost:8080/"
        },
        "id": "dnoqFe3mJvFm",
        "outputId": "6d39ec8c-81f0-4adb-abd2-956e075051c7"
      },
      "outputs": [
        {
          "output_type": "stream",
          "name": "stderr",
          "text": [
            "deoptima - INFO     : 2024-10-27 00:10:36,054 : get_response_data finished: {'assistant_message': \"Let's continue with the preferences dictionary. Please provide a preference statement for the criterion 'Portability' comparing 'Gaming Laptop' and '2-in-1 Laptop'. How would you rate their preference?\", 'user_examples': [\"'Portability': 'Gaming Laptop' is Equally Preferred to '2-in-1 Laptop'\", \"'Portability': 'Gaming Laptop' is Strongly More Preferred than '2-in-1 Laptop'\", \"'Portability': 'Gaming Laptop' is Moderately Less Preferred than '2-in-1 Laptop'\"], 'response_finished': 'No'}\n"
          ]
        },
        {
          "output_type": "stream",
          "name": "stdout",
          "text": [
            "Function runtime: 4246.14 msec\n"
          ]
        }
      ],
      "source": [
        "import time\n",
        "start_time = time.time()\n",
        "\n",
        "try:\n",
        "  response_data = get_response_data(get_response_data_prompt)\n",
        "except Exception as e:\n",
        "  deoptima_logger.error(f\"Error in {get_response_data.__name__}: {e}\", exc_info=True)\n",
        "else:\n",
        "  deoptima_logger.info(f\"{get_response_data.__name__} finished: {str(response_data)}\")\n",
        "\n",
        "\n",
        "end_time = time.time()\n",
        "runtime_ms = (end_time - start_time) * 1000\n",
        "print(f\"Function runtime: {runtime_ms:.2f} msec\")"
      ]
    },
    {
      "cell_type": "markdown",
      "metadata": {
        "id": "AytiGLWIODQ0"
      },
      "source": [
        "## get_validation_data"
      ]
    },
    {
      "cell_type": "code",
      "execution_count": 35,
      "metadata": {
        "id": "Dsg_4DbHSWTa"
      },
      "outputs": [],
      "source": [
        "# # update_entry = {'role': 'user', 'content': 'I think Price is Strongly More Less Important than Climate'}\n",
        "# # conversation[8] = update_entry\n",
        "# conversation = conversation[:-10]"
      ]
    },
    {
      "cell_type": "code",
      "execution_count": 36,
      "metadata": {
        "id": "ueZ9mREW0nhn"
      },
      "outputs": [],
      "source": [
        "import sys\n",
        "import os\n",
        "\n",
        "if SYS_PROJECT_DIR not in sys.path:\n",
        "    sys.path.append(SYS_PROJECT_DIR)\n",
        "\n",
        "from deoptima.utils import conversation_to_string\n",
        "from deoptima.utils import process_state_to_string"
      ]
    },
    {
      "cell_type": "code",
      "execution_count": 37,
      "metadata": {
        "id": "_LUBpgs1ZJX0"
      },
      "outputs": [],
      "source": [
        "import os\n",
        "import yaml\n",
        "\n",
        "with open(os.path.join(SYS_SRC_DIR, 'generation_data.yaml'), 'r') as file:\n",
        "    generation_data = yaml.safe_load(file)"
      ]
    },
    {
      "cell_type": "code",
      "execution_count": 38,
      "metadata": {
        "id": "19di4iIPe7Ub"
      },
      "outputs": [],
      "source": [
        "criteria_rating_list = generation_data['infos']['criteria_rating_list']\n",
        "preference_rating_list = generation_data['infos']['preference_rating_list']\n",
        "process_technical_explanation = generation_data['infos']['process_technical_explanation']\n",
        "process_technical_explanation = process_technical_explanation.format(\n",
        "    criteria_rating_list=criteria_rating_list,\n",
        "    preference_rating_list=preference_rating_list)\n",
        "get_validation_data_prompt = generation_data['prompts']['get_validation_data']['prompt']\n",
        "get_validation_data_prompt = get_validation_data_prompt.format(\n",
        "    process_technical_explanation=process_technical_explanation,\n",
        "    process_state=process_state_to_string(process_state))"
      ]
    },
    {
      "cell_type": "code",
      "execution_count": 39,
      "metadata": {
        "colab": {
          "base_uri": "https://localhost:8080/",
          "height": 1000
        },
        "id": "PQrwI014uvvT",
        "outputId": "ae0cbbaa-73ee-44e2-b23c-685d1aa6ed92"
      },
      "outputs": [
        {
          "output_type": "display_data",
          "data": {
            "text/plain": [
              "<IPython.core.display.Markdown object>"
            ],
            "text/markdown": "Process Technical Explanation\n=============================\n\nStep 1 - Basic Definitions: User should provide following list of definitions during conversation with Deoptima:\n\n-\tStep 1.1 Goal the user trying to achieve in optimal way\n  Examples:\n    -\tselecting the best laptop\n    -\tselecting the best destination for your vacation\n-\tStep 1.2 Options list: options (or alternatives) are the different choices or possibilities that the user can select from to achieve goal\n  Examples:\n    -\tLaptop model 1, Laptop model 2, Laptop model 3\n    -\tVacation Destination 1, Vacation Destination 2, Vacation Destination 3\n  Notation:\n    -\tn_o – number of options / options list length\n-\tStep 1.3 Criteria list: Criteria are the important factors that will influence your decision. Think of them as the things user care most about when choosing the best option.\n  Examples:\n    -\tPrice, Performance, Battery Life\n    -\tPrice, Climate, Activities\n  Notation:\n    -\tn_c – number of criteria / criteria list length\n\nStep 2 - basic definitions are set and next step is providing criteria comparision list\n\nStep 3 - Criteria Comparison List\n\nUser should assign a criteria rating to each valid criteria pair.\nValid criteria pairs are combinations of pairs from criteria list without considering the order of importance within each pair\nExample:\nFor criteria list = ['Price', 'Performance', 'Climate'], the valid criteria pairs are:\n- criterion_1 = \"Price\", criterion_2 = \"Performance\"\n- criterion_1 = \"Price\", criterion_2 = \"Climate\"\n- criterion_1 = \"Performance\", criterion_2 = \"Climate\"\n\nDuring the each comparison user should assign a rating come from following criteria rating list to a criteria pair:\n\n['Equally Important', 'Moderately More Important', 'Strongly More Important', 'Very Strongly More Important', 'Extremely More Important', 'Moderately Less Important', 'Strongly Less Important', 'Very Strongly Less Important', 'Extremely Less Important']\n\nThe valid criteria comparison statement format:\n[criterion_1]  is [criteria_rating]  to/than [criterion_2] , where : criterion_1 and criterion_2 is a valid criteria pair and criteria_rating is value comes from criteria_rating_list\nExamples: For criteria_list = ['Price', 'Performance', 'Climate'], sample criteria comparision list is:\n- criterion_1 = \"Price\", criterion_2 = \"Performance\", criteria_rating = \"Equally Important\" -> \"'Price' is Equally Important to 'Performance'\"\n- criterion_1 = \"Price\", criterion_2 = \"Climate\", criteria_rating = \"Moderately More Important\" -> \"'Price' is Moderately More Important than 'Performance'\"\n- criterion_1 = \"Performance\", criterion_2 = \"Climate\", criteria_rating = \"Extremely Less Important\" -> \"'Price' is Extremely Less Important than 'Performance'\"\n\nNotation:\n  -\tn_cc – number of criteria comparison statements / criteria comparision list length\n\nStep 4 - criteria comparisions are set and and next step is providing preferences statements.\n\nStep 5 - Preferences Dictionary\n\nPreferences dictionary contains preferences list for each criterion in criteria list.\n\nPreferences list contains a list of valid preferences statements for specific criterion.\n\nValid options pairs are combinations of pairs from options list without considering the order of importance within each pair.\nThe order between options pairs is important.\nExample: For options list = ['Laptop 1', 'Laptop 2', 'Laptop 3'], valid options pairs are:\n- option_1 = \"Laptop 1\", option_2 = \"Laptop 2\"\n- option_1 = \"Laptop 1\", option_2 = \"Laptop 3\"\n- option_1 = \"Laptop 2\", option_2 = \"Laptop 3\"\n\nThe valid preference statement format:\n[criterion]: [option_1] is [preference_rating] to [option_2], \nwhere criterion is a value from criteria list, option_1 and option_2 is a valid options pair, preferences_rating is value comes from preference_rating_list:\n\n['Equally Preferred', 'Moderately More Preferred', 'Strongly More Preferred', 'Very Strongly More Preferred', 'Extremely More Preferred', 'Moderately Less Preferred', 'Strongly Less Preferred', 'Very Strongly Less Preferred', 'Extremely Less Preferred']\n\nPreferences dictionary contains criteria in the order as they appear in the criteria list, while the preference statements follow the order of the valid options pairs.\nExample: For criteria_list = ['Price', 'Performance', 'Climate'] and options_list = ['Laptop 1', 'Laptop 2', 'Laptop 3'], sample preferences dictionary is:\n-\tcriterion = \"Price\", preferences list contains following valid preference statements:\n  --\toption_1 = \"Laptop 1\", option_2 = \"Laptop 2\", preferences_rating = \"Equally Preferred\" -> preference_statement = \"'Price': 'Laptop 1' is Equally Preferred to 'Laptop 2'\"\n  --\toption_1 = \"Laptop 1\", option_2 = \"Laptop 3\", preferences_rating = \"Moderately More Preferred\" -> preference_statement = \"'Price': 'Laptop 1' is Moderately More Preferred than 'Laptop 3'\"\n  --\toption_1 = \"Laptop 2\", option_2 = \"Laptop 3\", preferences_rating = \"Very Strongly Less Preferred\" -> preference_statement = \"'Price': 'Laptop 2' is Very Strongly Less Preferred than 'Laptop 3'\"\n-\tcriterion = \"Performance\", preferences list contains following valid preference statements:\n  --\toption_1 = \"Laptop 1\", option_2 = \"Laptop 2\", preferences_rating = \"Extremely More Preferred\" -> preference_statement = \"'Performance': 'Laptop 1' is Extremely More Preferred to 'Laptop 2'\"\n  --\toption_1 = \"Laptop 1\", option_2 = \"Laptop 3\", preferences_rating = \"Moderately Less Preferred\" -> preference_statement = \"'Performance': 'Laptop 1' is Moderately Less Preferred than 'Laptop 3'\"\n  --\toption_1 = \"Laptop 2\", option_2 = \"Laptop 3\", preferences_rating = \"Very Strongly More Preferred\" -> preference_statement = \"'Performance': 'Laptop 2' is Very Strongly More Preferred than 'Laptop 3'\"\n-\tcriterion = \"Climate\", preferences list contains following valid preference statements:\n  --\toption_1 = \"Laptop 1\", option_2 = \"Laptop 2\", preferences_rating = \"Very Strongly More Preferred\" -> preference_statement = \"'Climate': 'Laptop 1' is Very Strongly More Preferred to 'Laptop 2'\"\n  --\toption_1 = \"Laptop 1\", option_2 = \"Laptop 3\", preferences_rating = \"Moderately More Preferred\" -> preference_statement = \"'Climate': 'Laptop 1' is Moderately More Preferred than 'Laptop 3'\"\n  --\toption_1 = \"Laptop 2\", option_2 = \"Laptop 3\", preferences_rating = \"Extremely Less Preferred\" -> preference_statement = \"'Climate': 'Laptop 2' is Extremely Less Preferred than 'Laptop 3'\"\n\nNotation:\n  -\tn_oc – for givern criterion , number of preference statements / preferences list length\n\nStep 6 - all definitions are set and the solution will be prepared.\n\n\nProcess State\n=============\n\n---  ---\ngoal_name:\n\tSelecting the best laptop\noptions_list:\n\t- MacBook Pro\n\t- Dell XPS\n\t- Lenovo ThinkPad\ncriteria_list:\n\t- Storage Capacity\n\t- Portability\n\t- Customer Support\ncriteria_comparison_list:\n\t- criterion_1: Storage Capacity, criterion_2: Portability, criteria_rating: Strongly Less Important\n\t- criterion_1: Storage Capacity, criterion_2: Customer Support, criteria_rating: Very Strongly Less Important\n\t- criterion_1: Portability, criterion_2: Customer Support, criteria_rating: Moderately More Important\npreferences_dict:\n\t- Storage Capacity:\n\t\t-- option_1: MacBook Pro, option_2: Dell XPS, preference_rating: Moderately Less Preferred\n\t\t-- option_1: MacBook Pro, option_2: Lenovo ThinkPad, preference_rating: Strongly More Preferred\n\t\t-- option_1: Dell XPS, option_2: Lenovo ThinkPad, preference_rating: Strongly Less Preferred\n\t- Portability:\n\t\t-- option_1: MacBook Pro, option_2: Dell XPS, preference_rating: Missing\n\t\t-- option_1: MacBook Pro, option_2: Lenovo ThinkPad, preference_rating: Missing\n\t\t-- option_1: Dell XPS, option_2: Lenovo ThinkPad, preference_rating: Missing\n\t- Customer Support:\n\t\t-- option_1: MacBook Pro, option_2: Dell XPS, preference_rating: Missing\n\t\t-- option_1: MacBook Pro, option_2: Lenovo ThinkPad, preference_rating: Missing\n\t\t-- option_1: Dell XPS, option_2: Lenovo ThinkPad, preference_rating: Missing\n\nTask\n==============\nPerform the following validity checks based on the \"Process Technical Explanation\" and \"Process State\".\n\nvalidity_check_1:\n  name: Criteria comparison list with valid criteria pairs\n  condition: Each criteria pair in criteria_comparison_list is a valid criteria pair\n  status: Set \"Pass\" if condition holds, \"Fail\" - if condition doesn't hold, \"Skipped\" - if the check wasn't reached.\nvalidity_check_2:\n  name: Criteria comparison list with valid criteria ratings\n  condition: Each criteria pair in criteria_comparison_list has a criteria_rating from criteria_rating_list.\n  status: Set \"Pass\" if condition holds, \"Fail\" - if condition doesn't hold, \"Skipped\" - if the check wasn't reached.\nvalidity_check_3:\n  name: Preferences dictionary with valid criteria keys\n  condition: Each criteria in preferences_dictionary is in criteria_list\n  status: Set \"Pass\" if condition holds, \"Fail\" - if condition doesn't hold, \"Skipped\" - if the check wasn't reached.\n\nStop as soon as you encounter the first failure:\n1.1 Analyze the Process State and verify if the condition holds true for each validity check.\n    Provide a detailed step-by-step explanation to verify the condition. Ensure that only this condition is assessed without attempting to validate any other aspects. Set the explanation as sbsc_explanation.\n1.2 Set the status field of failed validity check to \"Fail\" and \"Skipped\" to rest of vaidity checks and go to \"All validity checks passed\" section.\n1.3 If a validity check fails:\n  1.3.1 Generate a polite and consise message describing the problem to user, referring sbsc_explanation. Set the message as assistant_message.\n  1.3.2 Generate empty list. Set it to user_examples.\nAll validity checks passed:\n1.1 Generate a message informing user about all definitions are set and the solution will be prepared. Set the message as assistant_message.\n1.2 Generate empty list. Set it to user_examples.\n\nTask Output: After all checks are completed (or a failure is encountered), format the output as a JSON object as follows\n1. validity_checks:\n  - name\n  - sbsc_explanation\n  - status\n2. response_data:\n  - assistant_message\n  - user_examples\n"
          },
          "metadata": {}
        }
      ],
      "source": [
        "from IPython.display import Markdown\n",
        "display(Markdown(f\"{get_validation_data_prompt}\"))"
      ]
    },
    {
      "cell_type": "code",
      "execution_count": 40,
      "metadata": {
        "id": "bIAhnCM0e7Q0"
      },
      "outputs": [],
      "source": [
        "from typing import List, Dict, Optional, Tuple\n",
        "\n",
        "def get_validation_data(prompt : str):\n",
        "  import os\n",
        "  from pydantic import BaseModel, Field\n",
        "  from langchain_core.utils.function_calling import convert_to_openai_function\n",
        "  from langchain_openai import ChatOpenAI\n",
        "  from langchain_core.output_parsers import StrOutputParser\n",
        "  from langchain.output_parsers.openai_functions import JsonOutputFunctionsParser\n",
        "  from langchain_core.prompts import PromptTemplate\n",
        "  from langchain_core.prompts import ChatPromptTemplate\n",
        "\n",
        "  output_parser = StrOutputParser()\n",
        "\n",
        "  model = ChatOpenAI(model=\"gpt-4o-mini\", temperature=0.0)\n",
        "\n",
        "  prompt = PromptTemplate(\n",
        "    template=prompt,\n",
        "    # input_variables=[\"missing_criteria_comparison_sample_statements\"],\n",
        "  )\n",
        "\n",
        "  chain = prompt | model | output_parser\n",
        "\n",
        "  generation = chain.invoke({'prompt' : prompt})\n",
        "\n",
        "  # print(generation)\n",
        "\n",
        "  import json\n",
        "\n",
        "  start_string = \"```json\" ; end_string = \"```\"\n",
        "  start_index = generation.find(start_string) + len(start_string)\n",
        "  end_index = generation.rfind(end_string) - 1\n",
        "\n",
        "  json_string = generation[start_index:end_index]\n",
        "  response_data = json.loads(json_string)\n",
        "\n",
        "  return response_data"
      ]
    },
    {
      "cell_type": "code",
      "execution_count": 41,
      "metadata": {
        "id": "GfQwbpTQuSEF"
      },
      "outputs": [],
      "source": [
        "validation_data = get_validation_data(get_validation_data_prompt)"
      ]
    },
    {
      "cell_type": "code",
      "execution_count": 42,
      "metadata": {
        "colab": {
          "base_uri": "https://localhost:8080/"
        },
        "id": "hC8VR-1DPmac",
        "outputId": "757c46fb-a5fc-461c-a68a-f3d6b84a5b90"
      },
      "outputs": [
        {
          "output_type": "stream",
          "name": "stderr",
          "text": [
            "deoptima - INFO     : 2024-10-26 23:44:44,375 : get_validation_data finished: {'validity_checks': [{'name': 'Criteria comparison list with valid criteria pairs', 'sbsc_explanation': \"To verify if each criteria pair in the criteria_comparison_list is valid, we need to check if the pairs are combinations of the criteria in the criteria_list without considering the order of importance. The criteria_list contains: ['Storage Capacity', 'Portability', 'Customer Support']. The valid pairs are: ('Storage Capacity', 'Portability'), ('Storage Capacity', 'Customer Support'), and ('Portability', 'Customer Support'). The criteria_comparison_list contains the following pairs: ('Storage Capacity', 'Portability'), ('Storage Capacity', 'Customer Support'), and ('Portability', 'Customer Support'). Since all pairs in the criteria_comparison_list are valid combinations from the criteria_list, this check passes.\", 'status': 'Pass'}, {'name': 'Criteria comparison list with valid criteria ratings', 'sbsc_explanation': \"To verify if each criteria pair in the criteria_comparison_list has a criteria_rating from the criteria_rating_list, we need to check the ratings assigned to each pair. The criteria_rating_list includes: ['Equally Important', 'Moderately More Important', 'Strongly More Important', 'Very Strongly More Important', 'Extremely More Important', 'Moderately Less Important', 'Strongly Less Important', 'Very Strongly Less Important', 'Extremely Less Important']. The criteria_comparison_list contains the following ratings: 'Strongly Less Important', 'Very Strongly Less Important', and 'Moderately More Important'. All these ratings are present in the criteria_rating_list, so this check passes.\", 'status': 'Pass'}, {'name': 'Preferences dictionary with valid criteria keys', 'sbsc_explanation': \"To verify if each criteria in the preferences_dict is in the criteria_list, we need to check the keys in the preferences_dict against the criteria_list. The criteria_list contains: ['Storage Capacity', 'Portability', 'Customer Support']. The preferences_dict contains preferences for 'Storage Capacity', 'Portability', and 'Customer Support'. Since all criteria in the preferences_dict are present in the criteria_list, this check passes.\", 'status': 'Pass'}], 'response_data': {'assistant_message': 'All definitions are set and the solution will be prepared.', 'user_examples': []}}\n"
          ]
        },
        {
          "output_type": "stream",
          "name": "stdout",
          "text": [
            "Function runtime: 4858.05 msec\n"
          ]
        }
      ],
      "source": [
        "import time\n",
        "start_time = time.time()\n",
        "\n",
        "try:\n",
        "  validation_data = get_validation_data(get_validation_data_prompt)\n",
        "except Exception as e:\n",
        "  deoptima_logger.error(f\"Error in {get_validation_data.__name__}: {e}\", exc_info=True)\n",
        "else:\n",
        "  deoptima_logger.info(f\"{get_validation_data.__name__} finished: {str(validation_data)}\")\n",
        "\n",
        "end_time = time.time()\n",
        "runtime_ms = (end_time - start_time) * 1000\n",
        "print(f\"Function runtime: {runtime_ms:.2f} msec\")"
      ]
    },
    {
      "cell_type": "code",
      "execution_count": 43,
      "metadata": {
        "colab": {
          "base_uri": "https://localhost:8080/"
        },
        "id": "BsbltPQuLm-C",
        "outputId": "7386b38c-b1f0-4fae-bb18-6def7d5e0f52"
      },
      "outputs": [
        {
          "output_type": "stream",
          "name": "stdout",
          "text": [
            "--- response_data ---\n",
            "assistant_message:\n",
            "\tNow, please provide a preference statement for the pair of options: 'Dell XPS' and 'Lenovo ThinkPad' for the criterion\n",
            "\t'Portability'.\n",
            "user_examples:\n",
            "\t- Portability: 'Dell XPS' is Equally Preferred to 'Lenovo ThinkPad'\n",
            "\t- Portability: 'Dell XPS' is Moderately More Preferred than 'Lenovo ThinkPad'\n",
            "\t- Portability: 'Dell XPS' is Strongly Less Preferred than 'Lenovo ThinkPad'\n",
            "response_finished:\n",
            "\tNo\n"
          ]
        }
      ],
      "source": [
        "print(dictionary_to_string(response_data,'response_data'))"
      ]
    },
    {
      "cell_type": "markdown",
      "metadata": {
        "id": "_l3H_fpcr87a"
      },
      "source": [
        "## get_validation_data_func"
      ]
    },
    {
      "cell_type": "code",
      "execution_count": 44,
      "metadata": {
        "id": "kZp0dDCgBVfA"
      },
      "outputs": [],
      "source": [
        "import sys\n",
        "import os\n",
        "\n",
        "if SYS_PROJECT_DIR not in sys.path:\n",
        "    sys.path.append(SYS_PROJECT_DIR)\n",
        "\n",
        "from deoptima.utils import conversation_to_string\n",
        "from deoptima.utils import process_state_to_string"
      ]
    },
    {
      "cell_type": "code",
      "execution_count": 45,
      "metadata": {
        "id": "gUFmWZzdBVfB"
      },
      "outputs": [],
      "source": [
        "import os\n",
        "import yaml\n",
        "\n",
        "with open(os.path.join(SYS_SRC_DIR, 'generation_data.yaml'), 'r') as file:\n",
        "    generation_data = yaml.safe_load(file)"
      ]
    },
    {
      "cell_type": "code",
      "execution_count": 46,
      "metadata": {
        "id": "YEYLF8-KMD0M"
      },
      "outputs": [],
      "source": [
        "criteria_rating_list = generation_data['infos']['criteria_rating_list']\n",
        "preference_rating_list = generation_data['infos']['preference_rating_list']"
      ]
    },
    {
      "cell_type": "code",
      "execution_count": 47,
      "metadata": {
        "id": "0HinwuLYA9-G"
      },
      "outputs": [],
      "source": [
        "def get_validation_data_func(process_state: Dict, criteria_rating_list: List, preference_rating_list: List) -> Dict:\n",
        "\n",
        "  import os\n",
        "  import re\n",
        "  import random\n",
        "  from deoptima.utils import dictionary_to_string\n",
        "\n",
        "  response = {}; response['validity_checks'] = {}; response['response_data'] = {}\n",
        "\n",
        "  options_list = process_state['options_list']\n",
        "  criteria_list = process_state['criteria_list']\n",
        "  criteria_comparision_list = process_state['criteria_comparison_list']\n",
        "  preferences_dict = process_state['preferences_dict']\n",
        "\n",
        "  validity_checks = [\n",
        "    {\n",
        "      'name' : \"Criteria comparison list with valid criteria pairs\",\n",
        "      'status': \"Not Started\"\n",
        "    },\n",
        "    {\n",
        "      'name' : \"Criteria comparison list with valid criteria ratings\",\n",
        "      'status': \"Not Started\"\n",
        "    },\n",
        "    {\n",
        "      'name' : \"Preferences dictionary with valid criteria keys\",\n",
        "      'status': \"Not Started\"\n",
        "    },\n",
        "    {\n",
        "      'name' : \"Preferences dictionary with valid options pairs\",\n",
        "      'status': \"Not Started\"\n",
        "    },\n",
        "    {\n",
        "      'name' : \"Preferences dictionary with valid preference ratings\", # Under development\n",
        "      'status': \"Not Started\"\n",
        "    },\n",
        "  ]\n",
        "\n",
        "  ### validity_check_0 - \"Criteria comparison list with valid criteria pairs\"\n",
        "  import itertools\n",
        "  partial_status = []\n",
        "  sbsc_explanation = {}\n",
        "  valid_criteria_pairs = list(itertools.combinations(criteria_list, 2))\n",
        "  sbsc_explanation['valid_criteria_pairs'] = valid_criteria_pairs\n",
        "  sbsc_explanation['criteria_comparision_list'] = criteria_comparision_list\n",
        "  for c in criteria_comparision_list:\n",
        "    criteria_pair = (c['criterion_1'], c['criterion_2'])\n",
        "    if criteria_pair in valid_criteria_pairs:\n",
        "      partial_status.append('Pass')\n",
        "    else:\n",
        "      partial_status.append('Fail')\n",
        "  sbsc_explanation['partial_status'] = partial_status\n",
        "  validity_checks[0]['sbsc_explanation'] = sbsc_explanation\n",
        "  validity_checks[0]['status'] = \"Pass\" if all(i == 'Pass' for i in partial_status) else \"Fail\"\n",
        "\n",
        "  ### validity_check_1 - \"Criteria comparison list with valid criteria ratings\"\n",
        "  partial_status = []\n",
        "  sbsc_explanation = {}\n",
        "  sbsc_explanation['criteria_rating_list'] = criteria_rating_list\n",
        "  sbsc_explanation['criteria_comparision_list'] = criteria_comparision_list\n",
        "  for c in criteria_comparision_list:\n",
        "    criteria_rating = c['criteria_rating']\n",
        "    if criteria_rating in criteria_rating_list:\n",
        "      partial_status.append('Pass')\n",
        "    else:\n",
        "      partial_status.append('Fail')\n",
        "  sbsc_explanation['partial_status'] = partial_status\n",
        "  validity_checks[1]['sbsc_explanation'] = sbsc_explanation\n",
        "  validity_checks[1]['status'] = \"Pass\" if all(i == 'Pass' for i in partial_status) else \"Fail\"\n",
        "\n",
        "  ### validity_check_2 - \"Preferences dictionary with valid criteria keys\" - List Version\n",
        "  partial_status = []\n",
        "  sbsc_explanation = {}\n",
        "  sbsc_explanation['criteria_list'] = criteria_list\n",
        "  preferences_criteria_list = list(preferences_dict.keys()) # preferences_dict is dict\n",
        "  sbsc_explanation['preferences_criteria_list'] = preferences_criteria_list\n",
        "  for c in preferences_criteria_list:\n",
        "    if c in criteria_list:\n",
        "      partial_status.append('Pass')\n",
        "    else:\n",
        "      partial_status.append('Fail')\n",
        "  sbsc_explanation['partial_status'] = partial_status\n",
        "  validity_checks[2]['sbsc_explanation'] = sbsc_explanation\n",
        "  validity_checks[2]['status'] = \"Pass\" if all(i == 'Pass' for i in partial_status) else \"Fail\"\n",
        "\n",
        "  ### validity_check_3 - \"Preferences dictionary with valid options pairs\"\n",
        "  import itertools\n",
        "  partial_status = []\n",
        "  sbsc_explanation = {}\n",
        "  valid_preference_triplets = [(criterion, option_1, option_2)\n",
        "                               for criterion in criteria_list\n",
        "                               for option_1, option_2 in itertools.combinations(options_list, 2)]\n",
        "  sbsc_explanation['valid_preference_triplets'] = valid_preference_triplets\n",
        "  # preferences_dict is dict\n",
        "  actual_preferences_triplets = [(criterion, preference['option_1'], preference['option_2'])\n",
        "                                for criterion, preferences in preferences_dict.items()\n",
        "                                for preference in preferences]\n",
        "  sbsc_explanation['actual_preferences_triplets'] = actual_preferences_triplets\n",
        "  for c in actual_preferences_triplets:\n",
        "    if c in valid_preference_triplets:\n",
        "      partial_status.append('Pass')\n",
        "    else:\n",
        "      partial_status.append('Fail')\n",
        "  sbsc_explanation['partial_status'] = partial_status\n",
        "  validity_checks[3]['sbsc_explanation'] = sbsc_explanation\n",
        "  validity_checks[3]['status'] = \"Pass\" if all(i == 'Pass' for i in partial_status) else \"Fail\"\n",
        "\n",
        "  ### validity_check_4 - \"Preferences dictionary with valid preference ratings\"\n",
        "  partial_status = []\n",
        "  sbsc_explanation = {}\n",
        "  sbsc_explanation['preference_rating_list'] = preference_rating_list\n",
        "  sbsc_explanation['preferences_dict'] = preferences_dict\n",
        "  # preferences_dict is dict\n",
        "  for c in preferences_dict:\n",
        "    for ps in preferences_dict[c]:\n",
        "      preference_rating = ps['preference_rating']\n",
        "      if preference_rating in preference_rating_list:\n",
        "        partial_status.append('Pass')\n",
        "      else:\n",
        "        partial_status.append('Fail')\n",
        "  sbsc_explanation['partial_status'] = partial_status\n",
        "  validity_checks[4]['sbsc_explanation'] = sbsc_explanation\n",
        "  validity_checks[4]['status'] = \"Pass\" if all(i == 'Pass' for i in partial_status) else \"Fail\"\n",
        "\n",
        "\n",
        "  assistant_examples = [\n",
        "    \"Great! All the inputs are in place. I’ll now analyze the information and present the best solution.\",\n",
        "    \"Everything is set! I’ll now process the data and deliver the most optimal option for your definitions.\",\n",
        "    \"All definitions have been confirmed. Let me work through the details and offer you the best possible solution.\"\n",
        "  ]\n",
        "\n",
        "  assistant_message = random.choice(assistant_examples)\n",
        "\n",
        "  response_data = {\n",
        "    'assistant_message': assistant_message,\n",
        "    'user_examples': []\n",
        "  }\n",
        "\n",
        "  response['validity_checks'] = validity_checks; response['response_data'] = response_data\n",
        "\n",
        "  return response\n"
      ]
    },
    {
      "cell_type": "markdown",
      "metadata": {
        "id": "-2WOfXPxAoNN"
      },
      "source": [
        "# generate_model_response"
      ]
    },
    {
      "cell_type": "markdown",
      "metadata": {
        "id": "Z2vi41mRW8Fn"
      },
      "source": [
        "## Setup"
      ]
    },
    {
      "cell_type": "code",
      "execution_count": 48,
      "metadata": {
        "id": "-4nwx6B-YUtg"
      },
      "outputs": [],
      "source": [
        "scenario_code = \"S0\"\n",
        "# scenario_code = \"S1\""
      ]
    },
    {
      "cell_type": "code",
      "execution_count": 49,
      "metadata": {
        "colab": {
          "base_uri": "https://localhost:8080/"
        },
        "id": "WRl70SMNK1fV",
        "outputId": "71241885-7c2f-4ee2-d810-293ad463b13f"
      },
      "outputs": [
        {
          "output_type": "execute_result",
          "data": {
            "text/plain": [
              "['abc.json']"
            ]
          },
          "metadata": {},
          "execution_count": 49
        }
      ],
      "source": [
        "import os\n",
        "\n",
        "conversation_input_folder = os.path.join(SYS_TESTING_DIR, \"input\", scenario_code)\n",
        "conversation_files = [f for f in os.listdir(conversation_input_folder) if os.path.isfile(os.path.join(conversation_input_folder, f))]\n",
        "\n",
        "conversation_files"
      ]
    },
    {
      "cell_type": "code",
      "execution_count": 50,
      "metadata": {
        "id": "33zyAhWaYTVD"
      },
      "outputs": [],
      "source": [
        "from deoptima.utils import load_from_json\n",
        "\n",
        "conversation_idx = 0\n",
        "conversation = load_from_json(os.path.join(conversation_input_folder, conversation_files[conversation_idx]))\n",
        "# conversation = conversation[:-9]"
      ]
    },
    {
      "cell_type": "code",
      "execution_count": 51,
      "metadata": {
        "colab": {
          "base_uri": "https://localhost:8080/",
          "height": 46
        },
        "id": "a2kZzRPGRXig",
        "outputId": "ef1acd2d-834b-4d2f-81aa-5fccf27e04d3"
      },
      "outputs": [
        {
          "output_type": "display_data",
          "data": {
            "text/plain": [
              "<IPython.core.display.HTML object>"
            ],
            "text/html": [
              "<div style='font-family: Arial, sans-serif;'><p><strong style='color: #2ecc71;'>user:</strong> I&#x27;m ready to start the decision-making process.</p></div>"
            ]
          },
          "metadata": {}
        }
      ],
      "source": [
        "from IPython.display import display, HTML\n",
        "from deoptima.utils import format_conversation\n",
        "\n",
        "html_content = format_conversation(conversation)\n",
        "display(HTML(html_content))"
      ]
    },
    {
      "cell_type": "code",
      "execution_count": 52,
      "metadata": {
        "id": "vxF71M7bBASJ"
      },
      "outputs": [],
      "source": [
        "import sys\n",
        "import os\n",
        "\n",
        "if SYS_PROJECT_DIR not in sys.path:\n",
        "    sys.path.append(SYS_PROJECT_DIR)\n",
        "\n",
        "import yaml\n",
        "from deoptima.utils import dictionary_to_string\n",
        "from deoptima.utils import conversation_to_string\n",
        "from deoptima.utils import process_state_to_string\n",
        "from deoptima.utils import generate_unique_hash\n",
        "\n",
        "class Generation_Data:\n",
        "    def __init__(self, data_path):\n",
        "        self.data_path = data_path\n",
        "        self.generation_data = self.load_yaml_data('generation_data.yaml')\n",
        "        self.criteria_rating_list = self.generation_data['infos']['criteria_rating_list']\n",
        "        self.preference_rating_list = self.generation_data['infos']['preference_rating_list']\n",
        "        self.process_technical_explanation = self.format_technical_explanation()\n",
        "\n",
        "    def load_yaml_data(self, filename):\n",
        "        \"\"\"Loads YAML data from the specified file.\"\"\"\n",
        "        import os\n",
        "\n",
        "        file_path = os.path.join(self.data_path, filename)\n",
        "        try:\n",
        "            with open(file_path, 'r') as file:\n",
        "                return yaml.safe_load(file)\n",
        "        except FileNotFoundError:\n",
        "          error_message = f\"File {filename} not found at {self.data_path}\"\n",
        "          deoptima_logger.error(error_message) ;  raise Exception(error_message)\n",
        "        except yaml.YAMLError as e:\n",
        "          error_message = f\"Error parsing YAML file: {e}\"\n",
        "          deoptima_logger.error(error_message) ;  raise Exception(error_message)\n",
        "\n",
        "    def get_criteria_rating_list(self):\n",
        "      return self.criteria_rating_list\n",
        "\n",
        "    def get_preference_rating_list(self):\n",
        "      return self.preference_rating_list\n",
        "\n",
        "    def format_technical_explanation(self):\n",
        "        \"\"\"Formats the process technical explanation.\"\"\"\n",
        "        process_technical_explanation = self.generation_data['infos']['process_technical_explanation']\n",
        "        return process_technical_explanation.format(criteria_rating_list = self.criteria_rating_list,\n",
        "                                                    preference_rating_list = self.preference_rating_list)\n",
        "\n",
        "    def get_process_state_prompt(self):\n",
        "        \"\"\"Property for retrieving the process state prompt.\"\"\"\n",
        "        prompt_template = self.generation_data['prompts']['get_process_state']['prompt']\n",
        "        return prompt_template.format(\n",
        "              process_technical_explanation=self.process_technical_explanation\n",
        "          )\n",
        "\n",
        "    def get_response_data_prompt(self, conversation, process_state):\n",
        "        \"\"\"Method for retrieving the response data prompt.\"\"\"\n",
        "        prompt_template = self.generation_data['prompts']['get_response_data']['prompt']\n",
        "        return prompt_template.format(\n",
        "              process_technical_explanation=self.process_technical_explanation,\n",
        "              conversation=conversation_to_string(conversation),\n",
        "              process_state=process_state_to_string(process_state)\n",
        "          )\n",
        "\n",
        "    def get_validation_data_prompt(self, conversation, process_state):\n",
        "        \"\"\"Method for retrieving the validation data prompt.\"\"\"\n",
        "        prompt_template = self.generation_data['prompts']['get_validation_data']['prompt']\n",
        "        return prompt_template.format(\n",
        "              process_technical_explanation=self.process_technical_explanation,\n",
        "              conversation=conversation_to_string(conversation),\n",
        "              process_state=process_state_to_string(process_state)\n",
        "         )\n",
        "\n",
        "generation_data = Generation_Data(SYS_SRC_DIR)\n",
        "\n",
        "def generate_model_response(conversation: List[Dict[str, str]]):\n",
        "\n",
        "  ### process_state\n",
        "  process_state = None\n",
        "  try:\n",
        "    get_process_state_prompt = generation_data.get_process_state_prompt()\n",
        "    process_state = get_process_state(get_process_state_prompt, conversation_to_string(conversation))\n",
        "  except Exception as e:\n",
        "    deoptima_logger.error(f\"Error in 'get_process_state': {e}\", exc_info=True)\n",
        "  else:\n",
        "    deoptima_logger.info(f\"{'get_process_state - get_response_data'} finished: \\n{process_state_to_string(process_state,'process_state')}\")\n",
        "  ### response_data\n",
        "  response_data = None\n",
        "  try:\n",
        "    get_response_data_prompt = generation_data.get_response_data_prompt(conversation, process_state)\n",
        "    response_data = get_response_data(get_response_data_prompt)\n",
        "  except Exception as e:\n",
        "    deoptima_logger.error(f\"Error in 'get_response_data': {e}\", exc_info=True)\n",
        "  else:\n",
        "    deoptima_logger.info(f\"{'get_response_data'} finished: \\n {dictionary_to_string(response_data,'response_data')}\")\n",
        "\n",
        "  if (response_data['response_finished'] == \"No\"):\n",
        "    return response_data['response_finished'], False, response_data['assistant_message'], response_data['user_examples']\n",
        "  ### process_state\n",
        "  process_state = None\n",
        "  try:\n",
        "    get_process_state_prompt = generation_data.get_process_state_prompt()\n",
        "    process_state = get_process_state(get_process_state_prompt, conversation_to_string(conversation))\n",
        "  except Exception as e:\n",
        "    deoptima_logger.error(f\"Error in 'get_process_state': {e}\", exc_info=True)\n",
        "  else:\n",
        "    deoptima_logger.info(f\"{'get_process_state - get_validation_data'} finished: \\n{process_state_to_string(process_state,'process_state')}\")\n",
        "  # ### validation_data\n",
        "  # try:\n",
        "  #   get_validation_data_prompt = generation_data.get_validation_data_prompt(conversation, process_state)\n",
        "  #   validation_data = get_validation_data(get_validation_data_prompt)\n",
        "  #   all_validity_checks_passed = all(validity_check['status'] == \"Pass\" for validity_check in validation_data['validity_checks'])\n",
        "  # except Exception as e:\n",
        "  #   deoptima_logger.error(f\"Error in 'get_validation_data': {e}\", exc_info=True)\n",
        "  # else:\n",
        "  #   info_message = f\"{'get_validation_data'} finished: \\n{dictionary_to_string(validation_data,'validation_data')}\\n all_validity_checks_passed : {all_validity_checks_passed}\"\n",
        "  #   deoptima_logger.info(info_message)\n",
        "  ### validation_data_func\n",
        "  try:\n",
        "    criteria_rating_list = generation_data.get_criteria_rating_list()\n",
        "    preference_rating_list = generation_data.get_preference_rating_list()\n",
        "    validation_data = get_validation_data_func(process_state, criteria_rating_list, preference_rating_list)\n",
        "    all_validity_checks_passed = all(validity_check['status'] == \"Pass\" for validity_check in validation_data['validity_checks'])\n",
        "  except Exception as e:\n",
        "    deoptima_logger.error(f\"Error in 'get_validation_data': {e}\", exc_info=True)\n",
        "  else:\n",
        "    info_message = f\"{'get_validation_data'} finished: \\n{dictionary_to_string(validation_data,'validation_data')}\\n all_validity_checks_passed : {all_validity_checks_passed}\"\n",
        "    deoptima_logger.info(info_message)\n",
        "\n",
        "  return response_data['response_finished'], all_validity_checks_passed, validation_data['response_data']['assistant_message'], validation_data['response_data']['user_examples']\n"
      ]
    },
    {
      "cell_type": "markdown",
      "metadata": {
        "id": "lQpJlyBepKQr"
      },
      "source": [
        "## Sample Run"
      ]
    },
    {
      "cell_type": "code",
      "execution_count": 53,
      "metadata": {
        "id": "xHW31enZUqXv"
      },
      "outputs": [],
      "source": [
        "# assistant_message,  user_examples = generate_model_response(conversation)"
      ]
    },
    {
      "cell_type": "code",
      "execution_count": 54,
      "metadata": {
        "colab": {
          "base_uri": "https://localhost:8080/"
        },
        "id": "hFNi10tERr3r",
        "outputId": "37b5737c-761f-4f2b-a210-2987701c5a58"
      },
      "outputs": [
        {
          "output_type": "stream",
          "name": "stderr",
          "text": [
            "deoptima - INFO     : 2024-10-26 23:44:44,874 : generate_model_response started.\n",
            "deoptima - INFO     : 2024-10-26 23:44:45,731 : get_process_state - get_response_data finished: \n",
            "--- process_state ---\n",
            "goal_name:\n",
            "\t\n",
            "options_list:\n",
            "criteria_list:\n",
            "criteria_comparison_list:\n",
            "preferences_dict:\n",
            "deoptima - INFO     : 2024-10-26 23:44:47,057 : get_response_data finished: \n",
            " --- response_data ---\n",
            "assistant_message:\n",
            "\tGreat! Let's start by defining your goal. What is the goal you are trying to achieve in an optimal way?\n",
            "user_examples:\n",
            "\t- Selecting the best laptop\n",
            "\t- Choosing the ideal vacation destination\n",
            "\t- Finding the most suitable smartphone\n",
            "response_finished:\n",
            "\tNo\n",
            "deoptima - INFO     : 2024-10-26 23:44:47,059 : generate_model_response finished.\n"
          ]
        },
        {
          "output_type": "stream",
          "name": "stdout",
          "text": [
            "Function runtime: 2186.80 msec\n"
          ]
        }
      ],
      "source": [
        "import time\n",
        "start_time = time.time()\n",
        "\n",
        "deoptima_logger.info(f\"{generate_model_response.__name__} started.\")\n",
        "try:\n",
        "  response_finished, all_validity_checks_passed, assistant_message,  user_examples = generate_model_response(conversation)\n",
        "except Exception as e:\n",
        "  deoptima_logger.error(f\"Error in {generate_model_response.__name__}: {e}\", exc_info=True)\n",
        "else:\n",
        "  deoptima_logger.info(f\"{generate_model_response.__name__} finished.\")\n",
        "\n",
        "conversation.append({\"role\": \"assistant\", \"content\": assistant_message})\n",
        "import random\n",
        "conversation.append({\"role\": \"user\", \"content\": random.choice(user_examples)})\n",
        "\n",
        "end_time = time.time()\n",
        "runtime_ms = (end_time - start_time) * 1000\n",
        "print(f\"Function runtime: {runtime_ms:.2f} msec\")"
      ]
    },
    {
      "cell_type": "code",
      "execution_count": 55,
      "metadata": {
        "colab": {
          "base_uri": "https://localhost:8080/",
          "height": 93
        },
        "id": "yjQCFZepSYZi",
        "outputId": "88b892d5-0e67-41d1-9342-0a95874f1e0d"
      },
      "outputs": [
        {
          "output_type": "display_data",
          "data": {
            "text/plain": [
              "<IPython.core.display.HTML object>"
            ],
            "text/html": [
              "<div style='font-family: Arial, sans-serif;'><p><strong style='color: #2ecc71;'>user:</strong> I&#x27;m ready to start the decision-making process.</p><p><strong style='color: #3498db;'>assistant:</strong> Great! Let&#x27;s start by defining your goal. What is the goal you are trying to achieve in an optimal way?</p><p><strong style='color: #2ecc71;'>user:</strong> Choosing the ideal vacation destination</p></div>"
            ]
          },
          "metadata": {}
        }
      ],
      "source": [
        "from IPython.display import display, HTML\n",
        "from deoptima.utils import format_conversation\n",
        "\n",
        "html_content = format_conversation(conversation)\n",
        "display(HTML(html_content))"
      ]
    },
    {
      "cell_type": "markdown",
      "metadata": {
        "id": "DO0FNza8pCtV"
      },
      "source": [
        "# Run Scenario"
      ]
    },
    {
      "cell_type": "code",
      "execution_count": 56,
      "metadata": {
        "id": "0yV4k-gyTl2S"
      },
      "outputs": [],
      "source": [
        "# from deoptima.utils import set_logging_level\n",
        "# set_logging_level(deoptima_logger, 'DEBUG')"
      ]
    },
    {
      "cell_type": "code",
      "execution_count": 57,
      "metadata": {
        "colab": {
          "base_uri": "https://localhost:8080/",
          "height": 654
        },
        "id": "VNUF3i6pFTom",
        "outputId": "8c4582d5-39fa-4fca-ebb6-fe2a8b9a5992"
      },
      "outputs": [
        {
          "output_type": "display_data",
          "data": {
            "text/plain": [
              "<IPython.core.display.HTML object>"
            ],
            "text/html": [
              "<div style='font-family: Arial, sans-serif;'><p><strong style='color: #2ecc71;'>user:</strong> I&#x27;m ready to start the decision-making process.</p><p><strong style='color: #3498db;'>assistant:</strong> Great! Let&#x27;s start by defining your goal. What is the goal you are trying to achieve in an optimal way?</p><p><strong style='color: #2ecc71;'>user:</strong> Selecting the best laptop</p><p><strong style='color: #3498db;'>assistant:</strong> Now, please provide a list of options you are considering for your laptop selection. What are the different laptop models you have in mind?</p><p><strong style='color: #2ecc71;'>user:</strong> Gaming Laptop, Ultrabook, 2-in-1 Laptop</p><p><strong style='color: #3498db;'>assistant:</strong> Now, let&#x27;s define the criteria that will influence your decision in selecting the best laptop. What are the important factors you care about when choosing a laptop?</p><p><strong style='color: #2ecc71;'>user:</strong> Storage Capacity, Graphics Card, Portability</p><p><strong style='color: #3498db;'>assistant:</strong> Let&#x27;s move on to the criteria comparison list. Please provide a comparison rating for the following criteria pair: &#x27;Storage Capacity&#x27; is compared to &#x27;Graphics Card&#x27;. How would you rate their importance?</p><p><strong style='color: #2ecc71;'>user:</strong> &#x27;Storage Capacity&#x27; is Strongly Less Important than &#x27;Graphics Card&#x27;</p><p><strong style='color: #3498db;'>assistant:</strong> Let&#x27;s continue with the criteria comparison list. Please provide a comparison rating for the following criteria pair: &#x27;Storage Capacity&#x27; is compared to &#x27;Portability&#x27;. How would you rate their importance?</p><p><strong style='color: #2ecc71;'>user:</strong> Storage Capacity is Extremely Less Important than Graphics Card</p><p><strong style='color: #3498db;'>assistant:</strong> Let&#x27;s continue with the criteria comparison list. Please provide a comparison rating for the following criteria pair: &#x27;Graphics Card&#x27; is compared to &#x27;Portability&#x27;. How would you rate their importance?</p><p><strong style='color: #2ecc71;'>user:</strong> &#x27;Graphics Card&#x27; is Strongly Less Important than &#x27;Portability&#x27;</p><p><strong style='color: #3498db;'>assistant:</strong> Let&#x27;s move on to the preferences dictionary. Please provide a preference statement for the criterion &#x27;Storage Capacity&#x27; comparing &#x27;Gaming Laptop&#x27; and &#x27;Ultrabook&#x27;. How would you rate their preference?</p><p><strong style='color: #2ecc71;'>user:</strong> &#x27;Storage Capacity&#x27;: &#x27;Gaming Laptop&#x27; is Equally Preferred to &#x27;Ultrabook&#x27;</p><p><strong style='color: #3498db;'>assistant:</strong> Let&#x27;s continue with the preferences dictionary. Please provide a preference statement for the criterion &#x27;Storage Capacity&#x27; comparing &#x27;Gaming Laptop&#x27; and &#x27;2-in-1 Laptop&#x27;. How would you rate their preference?</p><p><strong style='color: #2ecc71;'>user:</strong> &#x27;Storage Capacity&#x27;: &#x27;Gaming Laptop&#x27; is Strongly Less Preferred than &#x27;2-in-1 Laptop&#x27;</p><p><strong style='color: #3498db;'>assistant:</strong> Let&#x27;s continue with the preferences dictionary. Please provide a preference statement for the criterion &#x27;Graphics Card&#x27; comparing &#x27;Gaming Laptop&#x27; and &#x27;Ultrabook&#x27;. How would you rate their preference?</p><p><strong style='color: #2ecc71;'>user:</strong> &#x27;Graphics Card&#x27;: &#x27;Gaming Laptop&#x27; is Equally Preferred to &#x27;Ultrabook&#x27;</p><p><strong style='color: #3498db;'>assistant:</strong> Let&#x27;s continue with the preferences dictionary. Please provide a preference statement for the criterion &#x27;Storage Capacity&#x27; comparing &#x27;Ultrabook&#x27; and &#x27;2-in-1 Laptop&#x27;. How would you rate their preference?</p><p><strong style='color: #2ecc71;'>user:</strong> &#x27;Storage Capacity&#x27;: &#x27;Ultrabook&#x27; is Equally Preferred to &#x27;2-in-1 Laptop&#x27;</p><p><strong style='color: #3498db;'>assistant:</strong> Let&#x27;s continue with the preferences dictionary. Please provide a preference statement for the criterion &#x27;Graphics Card&#x27; comparing &#x27;Gaming Laptop&#x27; and &#x27;2-in-1 Laptop&#x27;. How would you rate their preference?</p><p><strong style='color: #2ecc71;'>user:</strong> &#x27;Graphics Card&#x27;: &#x27;Gaming Laptop&#x27; is Equally Preferred to &#x27;2-in-1 Laptop&#x27;</p><p><strong style='color: #3498db;'>assistant:</strong> Let&#x27;s continue with the preferences dictionary. Please provide a preference statement for the criterion &#x27;Graphics Card&#x27; comparing &#x27;Ultrabook&#x27; and &#x27;2-in-1 Laptop&#x27;. How would you rate their preference?</p><p><strong style='color: #2ecc71;'>user:</strong> &#x27;Graphics Card&#x27;: &#x27;Ultrabook&#x27; is Strongly More Preferred than &#x27;2-in-1 Laptop&#x27;</p><p><strong style='color: #3498db;'>assistant:</strong> Let&#x27;s continue with the preferences dictionary. Please provide a preference statement for the criterion &#x27;Portability&#x27; comparing &#x27;Gaming Laptop&#x27; and &#x27;Ultrabook&#x27;. How would you rate their preference?</p><p><strong style='color: #2ecc71;'>user:</strong> Storage Capacity: Ultrabook is Extremely More Preferred to 2-in-1 Laptop</p></div>"
            ]
          },
          "metadata": {}
        }
      ],
      "source": [
        "conversation_input_folder = os.path.join(SYS_TESTING_DIR, \"input\")\n",
        "\n",
        "# conversation_file = \"start_process_1.json\"\n",
        "# conversation_file = \"process_1.json\"\n",
        "# conversation_file = \"process_2.json\"\n",
        "# conversation_file = \"process_3.json\"\n",
        "# conversation_file = \"process_5.json\"\n",
        "# conversation_file = \"assistant_stop_2.json\"\n",
        "# conversation_file = \"process_test_options.json\"\n",
        "conversation_file = \"recent_1.json\"\n",
        "\n",
        "conversation = load_from_json(os.path.join(conversation_input_folder, conversation_file))\n",
        "\n",
        "from IPython.display import display, HTML\n",
        "from deoptima.utils import format_conversation\n",
        "\n",
        "html_content = format_conversation(conversation)\n",
        "display(HTML(html_content))"
      ]
    },
    {
      "cell_type": "code",
      "execution_count": 58,
      "metadata": {
        "colab": {
          "base_uri": "https://localhost:8080/"
        },
        "id": "eNKMDkTg31fb",
        "outputId": "36ffa416-0420-4458-b110-7266bb82d676"
      },
      "outputs": [
        {
          "output_type": "stream",
          "name": "stderr",
          "text": [
            "deoptima - INFO     : 2024-10-26 23:44:48,009 : generate_model_response started.\n",
            "deoptima - INFO     : 2024-10-26 23:44:52,749 : get_process_state - get_response_data finished: \n",
            "--- process_state ---\n",
            "goal_name:\n",
            "\tSelecting the best laptop\n",
            "options_list:\n",
            "\t- Gaming Laptop\n",
            "\t- Ultrabook\n",
            "\t- 2-in-1 Laptop\n",
            "criteria_list:\n",
            "\t- Storage Capacity\n",
            "\t- Graphics Card\n",
            "\t- Portability\n",
            "criteria_comparison_list:\n",
            "\t- criterion_1: Storage Capacity, criterion_2: Graphics Card, criteria_rating: Strongly Less Important\n",
            "\t- criterion_1: Storage Capacity, criterion_2: Portability, criteria_rating: Extremely Less Important\n",
            "\t- criterion_1: Graphics Card, criterion_2: Portability, criteria_rating: Strongly Less Important\n",
            "preferences_dict:\n",
            "\t- Storage Capacity:\n",
            "\t\t-- option_1: Gaming Laptop, option_2: Ultrabook, preference_rating: Equally Preferred\n",
            "\t\t-- option_1: Gaming Laptop, option_2: 2-in-1 Laptop, preference_rating: Strongly Less Preferred\n",
            "\t\t-- option_1: Ultrabook, option_2: 2-in-1 Laptop, preference_rating: Equally Preferred\n",
            "\t- Graphics Card:\n",
            "\t\t-- option_1: Gaming Laptop, option_2: Ultrabook, preference_rating: Equally Preferred\n",
            "\t\t-- option_1: Gaming Laptop, option_2: 2-in-1 Laptop, preference_rating: Equally Preferred\n",
            "\t\t-- option_1: Ultrabook, option_2: 2-in-1 Laptop, preference_rating: Strongly More Preferred\n",
            "\t- Portability:\n",
            "\t\t-- option_1: Gaming Laptop, option_2: Ultrabook, preference_rating: Extremely More Preferred\n",
            "\t\t-- option_1: Gaming Laptop, option_2: 2-in-1 Laptop, preference_rating: Extremely More Preferred\n",
            "\t\t-- option_1: Ultrabook, option_2: 2-in-1 Laptop, preference_rating: Extremely More Preferred\n",
            "deoptima - INFO     : 2024-10-26 23:44:54,909 : get_response_data finished: \n",
            " --- response_data ---\n",
            "assistant_message:\n",
            "\tLet's continue with the preferences dictionary. Please provide a preference statement for the criterion 'Portability'\n",
            "\tcomparing 'Gaming Laptop' and '2-in-1 Laptop'. How would you rate their preference?\n",
            "user_examples:\n",
            "\t- 'Portability': 'Gaming Laptop' is Equally Preferred to '2-in-1 Laptop'\n",
            "\t- 'Portability': 'Gaming Laptop' is Strongly More Preferred than '2-in-1 Laptop'\n",
            "\t- 'Portability': 'Gaming Laptop' is Moderately Less Preferred than '2-in-1 Laptop'\n",
            "response_finished:\n",
            "\tNo\n",
            "deoptima - INFO     : 2024-10-26 23:44:54,911 : \n",
            "******\n",
            " user_message: 'Portability': 'Gaming Laptop' is Moderately Less Preferred than '2-in-1 Laptop'\n",
            " assistant_message: Let's continue with the preferences dictionary. Please provide a preference statement for the criterion 'Portability' comparing 'Gaming Laptop' and '2-in-1 Laptop'. How would you rate their preference?\n",
            " user_examples: [\"'Portability': 'Gaming Laptop' is Equally Preferred to '2-in-1 Laptop'\", \"'Portability': 'Gaming Laptop' is Strongly More Preferred than '2-in-1 Laptop'\", \"'Portability': 'Gaming Laptop' is Moderately Less Preferred than '2-in-1 Laptop'\"]\n",
            "deoptima - INFO     : 2024-10-26 23:44:54,913 : generate_model_response finished.\n",
            "deoptima - INFO     : 2024-10-26 23:44:54,915 : generate_model_response started.\n",
            "deoptima - INFO     : 2024-10-26 23:44:59,441 : get_process_state - get_response_data finished: \n",
            "--- process_state ---\n",
            "goal_name:\n",
            "\tSelecting the best laptop\n",
            "options_list:\n",
            "\t- Gaming Laptop\n",
            "\t- Ultrabook\n",
            "\t- 2-in-1 Laptop\n",
            "criteria_list:\n",
            "\t- Storage Capacity\n",
            "\t- Graphics Card\n",
            "\t- Portability\n",
            "criteria_comparison_list:\n",
            "\t- criterion_1: Storage Capacity, criterion_2: Graphics Card, criteria_rating: Strongly Less Important\n",
            "\t- criterion_1: Storage Capacity, criterion_2: Portability, criteria_rating: Extremely Less Important\n",
            "\t- criterion_1: Graphics Card, criterion_2: Portability, criteria_rating: Strongly Less Important\n",
            "preferences_dict:\n",
            "\t- Storage Capacity:\n",
            "\t\t-- option_1: Gaming Laptop, option_2: Ultrabook, preference_rating: Equally Preferred\n",
            "\t\t-- option_1: Gaming Laptop, option_2: 2-in-1 Laptop, preference_rating: Strongly Less Preferred\n",
            "\t\t-- option_1: Ultrabook, option_2: 2-in-1 Laptop, preference_rating: Equally Preferred\n",
            "\t- Graphics Card:\n",
            "\t\t-- option_1: Gaming Laptop, option_2: Ultrabook, preference_rating: Equally Preferred\n",
            "\t\t-- option_1: Gaming Laptop, option_2: 2-in-1 Laptop, preference_rating: Equally Preferred\n",
            "\t\t-- option_1: Ultrabook, option_2: 2-in-1 Laptop, preference_rating: Strongly More Preferred\n",
            "\t- Portability:\n",
            "\t\t-- option_1: Gaming Laptop, option_2: Ultrabook, preference_rating: Moderately Less Preferred\n",
            "\t\t-- option_1: Gaming Laptop, option_2: 2-in-1 Laptop, preference_rating: Moderately Less Preferred\n",
            "\t\t-- option_1: Ultrabook, option_2: 2-in-1 Laptop, preference_rating: Missing\n",
            "deoptima - INFO     : 2024-10-26 23:45:01,634 : get_response_data finished: \n",
            " --- response_data ---\n",
            "assistant_message:\n",
            "\tLet's complete the preferences dictionary. Please provide a preference statement for the criterion 'Portability'\n",
            "\tcomparing 'Ultrabook' and '2-in-1 Laptop'. How would you rate their preference?\n",
            "user_examples:\n",
            "\t- 'Portability': 'Ultrabook' is Equally Preferred to '2-in-1 Laptop'\n",
            "\t- 'Portability': 'Ultrabook' is Strongly More Preferred than '2-in-1 Laptop'\n",
            "\t- 'Portability': 'Ultrabook' is Moderately Less Preferred than '2-in-1 Laptop'\n",
            "response_finished:\n",
            "\tNo\n",
            "deoptima - INFO     : 2024-10-26 23:45:01,636 : \n",
            "******\n",
            " user_message: 'Portability': 'Ultrabook' is Strongly More Preferred than '2-in-1 Laptop'\n",
            " assistant_message: Let's complete the preferences dictionary. Please provide a preference statement for the criterion 'Portability' comparing 'Ultrabook' and '2-in-1 Laptop'. How would you rate their preference?\n",
            " user_examples: [\"'Portability': 'Ultrabook' is Equally Preferred to '2-in-1 Laptop'\", \"'Portability': 'Ultrabook' is Strongly More Preferred than '2-in-1 Laptop'\", \"'Portability': 'Ultrabook' is Moderately Less Preferred than '2-in-1 Laptop'\"]\n",
            "deoptima - INFO     : 2024-10-26 23:45:01,638 : generate_model_response finished.\n",
            "deoptima - INFO     : 2024-10-26 23:45:01,639 : generate_model_response started.\n",
            "deoptima - INFO     : 2024-10-26 23:45:06,031 : get_process_state - get_response_data finished: \n",
            "--- process_state ---\n",
            "goal_name:\n",
            "\tSelecting the best laptop\n",
            "options_list:\n",
            "\t- Gaming Laptop\n",
            "\t- Ultrabook\n",
            "\t- 2-in-1 Laptop\n",
            "criteria_list:\n",
            "\t- Storage Capacity\n",
            "\t- Graphics Card\n",
            "\t- Portability\n",
            "criteria_comparison_list:\n",
            "\t- criterion_1: Storage Capacity, criterion_2: Graphics Card, criteria_rating: Strongly Less Important\n",
            "\t- criterion_1: Storage Capacity, criterion_2: Portability, criteria_rating: Extremely Less Important\n",
            "\t- criterion_1: Graphics Card, criterion_2: Portability, criteria_rating: Strongly Less Important\n",
            "preferences_dict:\n",
            "\t- Storage Capacity:\n",
            "\t\t-- option_1: Gaming Laptop, option_2: Ultrabook, preference_rating: Equally Preferred\n",
            "\t\t-- option_1: Gaming Laptop, option_2: 2-in-1 Laptop, preference_rating: Strongly Less Preferred\n",
            "\t\t-- option_1: Ultrabook, option_2: 2-in-1 Laptop, preference_rating: Equally Preferred\n",
            "\t- Graphics Card:\n",
            "\t\t-- option_1: Gaming Laptop, option_2: Ultrabook, preference_rating: Equally Preferred\n",
            "\t\t-- option_1: Gaming Laptop, option_2: 2-in-1 Laptop, preference_rating: Equally Preferred\n",
            "\t\t-- option_1: Ultrabook, option_2: 2-in-1 Laptop, preference_rating: Strongly More Preferred\n",
            "\t- Portability:\n",
            "\t\t-- option_1: Gaming Laptop, option_2: Ultrabook, preference_rating: Moderately Less Preferred\n",
            "\t\t-- option_1: Gaming Laptop, option_2: 2-in-1 Laptop, preference_rating: Moderately Less Preferred\n",
            "\t\t-- option_1: Ultrabook, option_2: 2-in-1 Laptop, preference_rating: Strongly More Preferred\n",
            "deoptima - INFO     : 2024-10-26 23:45:07,168 : get_response_data finished: \n",
            " --- response_data ---\n",
            "assistant_message:\n",
            "\tIt looks like we have completed the preferences dictionary. Now, let's move on to prepare the solution based on the\n",
            "\tdefinitions we've set. Thank you for your input throughout this process!\n",
            "user_examples:\n",
            "response_finished:\n",
            "\tYes\n",
            "deoptima - INFO     : 2024-10-26 23:45:11,825 : get_process_state - get_validation_data finished: \n",
            "--- process_state ---\n",
            "goal_name:\n",
            "\tSelecting the best laptop\n",
            "options_list:\n",
            "\t- Gaming Laptop\n",
            "\t- Ultrabook\n",
            "\t- 2-in-1 Laptop\n",
            "criteria_list:\n",
            "\t- Storage Capacity\n",
            "\t- Graphics Card\n",
            "\t- Portability\n",
            "criteria_comparison_list:\n",
            "\t- criterion_1: Storage Capacity, criterion_2: Graphics Card, criteria_rating: Strongly Less Important\n",
            "\t- criterion_1: Storage Capacity, criterion_2: Portability, criteria_rating: Extremely Less Important\n",
            "\t- criterion_1: Graphics Card, criterion_2: Portability, criteria_rating: Strongly Less Important\n",
            "preferences_dict:\n",
            "\t- Storage Capacity:\n",
            "\t\t-- option_1: Gaming Laptop, option_2: Ultrabook, preference_rating: Equally Preferred\n",
            "\t\t-- option_1: Gaming Laptop, option_2: 2-in-1 Laptop, preference_rating: Strongly Less Preferred\n",
            "\t\t-- option_1: Ultrabook, option_2: 2-in-1 Laptop, preference_rating: Equally Preferred\n",
            "\t- Graphics Card:\n",
            "\t\t-- option_1: Gaming Laptop, option_2: Ultrabook, preference_rating: Equally Preferred\n",
            "\t\t-- option_1: Gaming Laptop, option_2: 2-in-1 Laptop, preference_rating: Equally Preferred\n",
            "\t\t-- option_1: Ultrabook, option_2: 2-in-1 Laptop, preference_rating: Strongly More Preferred\n",
            "\t- Portability:\n",
            "\t\t-- option_1: Gaming Laptop, option_2: Ultrabook, preference_rating: Moderately Less Preferred\n",
            "\t\t-- option_1: Gaming Laptop, option_2: 2-in-1 Laptop, preference_rating: Moderately Less Preferred\n",
            "\t\t-- option_1: Ultrabook, option_2: 2-in-1 Laptop, preference_rating: Strongly More Preferred\n",
            "deoptima - INFO     : 2024-10-26 23:45:11,828 : get_validation_data finished: \n",
            "--- validation_data ---\n",
            "validity_checks:\n",
            "\t- {'name': 'Criteria comparison list with valid criteria pairs', 'status': 'Pass', 'sbsc_explanation':\n",
            "\t{'valid_criteria_pairs': [('Storage Capacity', 'Graphics Card'), ('Storage Capacity', 'Portability'), ('Graphics Card',\n",
            "\t'Portability')], 'criteria_comparision_list': [{'criterion_1': 'Storage Capacity', 'criterion_2': 'Graphics Card',\n",
            "\t'criteria_rating': 'Strongly Less Important'}, {'criterion_1': 'Storage Capacity', 'criterion_2': 'Portability',\n",
            "\t'criteria_rating': 'Extremely Less Important'}, {'criterion_1': 'Graphics Card', 'criterion_2': 'Portability',\n",
            "\t'criteria_rating': 'Strongly Less Important'}], 'partial_status': ['Pass', 'Pass', 'Pass']}}\n",
            "\t- {'name': 'Criteria comparison list with valid criteria ratings', 'status': 'Pass', 'sbsc_explanation':\n",
            "\t{'criteria_rating_list': ['Equally Important', 'Moderately More Important', 'Strongly More Important', 'Very Strongly\n",
            "\tMore Important', 'Extremely More Important', 'Moderately Less Important', 'Strongly Less Important', 'Very Strongly Less\n",
            "\tImportant', 'Extremely Less Important'], 'criteria_comparision_list': [{'criterion_1': 'Storage Capacity',\n",
            "\t'criterion_2': 'Graphics Card', 'criteria_rating': 'Strongly Less Important'}, {'criterion_1': 'Storage Capacity',\n",
            "\t'criterion_2': 'Portability', 'criteria_rating': 'Extremely Less Important'}, {'criterion_1': 'Graphics Card',\n",
            "\t'criterion_2': 'Portability', 'criteria_rating': 'Strongly Less Important'}], 'partial_status': ['Pass', 'Pass',\n",
            "\t'Pass']}}\n",
            "\t- {'name': 'Preferences dictionary with valid criteria keys', 'status': 'Pass', 'sbsc_explanation': {'criteria_list':\n",
            "\t['Storage Capacity', 'Graphics Card', 'Portability'], 'preferences_criteria_list': ['Storage Capacity', 'Graphics Card',\n",
            "\t'Portability'], 'partial_status': ['Pass', 'Pass', 'Pass']}}\n",
            "\t- {'name': 'Preferences dictionary with valid options pairs', 'status': 'Pass', 'sbsc_explanation':\n",
            "\t{'valid_preference_triplets': [('Storage Capacity', 'Gaming Laptop', 'Ultrabook'), ('Storage Capacity', 'Gaming Laptop',\n",
            "\t'2-in-1 Laptop'), ('Storage Capacity', 'Ultrabook', '2-in-1 Laptop'), ('Graphics Card', 'Gaming Laptop', 'Ultrabook'),\n",
            "\t('Graphics Card', 'Gaming Laptop', '2-in-1 Laptop'), ('Graphics Card', 'Ultrabook', '2-in-1 Laptop'), ('Portability',\n",
            "\t'Gaming Laptop', 'Ultrabook'), ('Portability', 'Gaming Laptop', '2-in-1 Laptop'), ('Portability', 'Ultrabook', '2-in-1\n",
            "\tLaptop')], 'actual_preferences_triplets': [('Storage Capacity', 'Gaming Laptop', 'Ultrabook'), ('Storage Capacity',\n",
            "\t'Gaming Laptop', '2-in-1 Laptop'), ('Storage Capacity', 'Ultrabook', '2-in-1 Laptop'), ('Graphics Card', 'Gaming\n",
            "\tLaptop', 'Ultrabook'), ('Graphics Card', 'Gaming Laptop', '2-in-1 Laptop'), ('Graphics Card', 'Ultrabook', '2-in-1\n",
            "\tLaptop'), ('Portability', 'Gaming Laptop', 'Ultrabook'), ('Portability', 'Gaming Laptop', '2-in-1 Laptop'),\n",
            "\t('Portability', 'Ultrabook', '2-in-1 Laptop')], 'partial_status': ['Pass', 'Pass', 'Pass', 'Pass', 'Pass', 'Pass',\n",
            "\t'Pass', 'Pass', 'Pass']}}\n",
            "\t- {'name': 'Preferences dictionary with valid preference ratings', 'status': 'Pass', 'sbsc_explanation':\n",
            "\t{'preference_rating_list': ['Equally Preferred', 'Moderately More Preferred', 'Strongly More Preferred', 'Very Strongly\n",
            "\tMore Preferred', 'Extremely More Preferred', 'Moderately Less Preferred', 'Strongly Less Preferred', 'Very Strongly Less\n",
            "\tPreferred', 'Extremely Less Preferred'], 'preferences_dict': {'Storage Capacity': [{'option_1': 'Gaming Laptop',\n",
            "\t'option_2': 'Ultrabook', 'preference_rating': 'Equally Preferred'}, {'option_1': 'Gaming Laptop', 'option_2': '2-in-1\n",
            "\tLaptop', 'preference_rating': 'Strongly Less Preferred'}, {'option_1': 'Ultrabook', 'option_2': '2-in-1 Laptop',\n",
            "\t'preference_rating': 'Equally Preferred'}], 'Graphics Card': [{'option_1': 'Gaming Laptop', 'option_2': 'Ultrabook',\n",
            "\t'preference_rating': 'Equally Preferred'}, {'option_1': 'Gaming Laptop', 'option_2': '2-in-1 Laptop',\n",
            "\t'preference_rating': 'Equally Preferred'}, {'option_1': 'Ultrabook', 'option_2': '2-in-1 Laptop', 'preference_rating':\n",
            "\t'Strongly More Preferred'}], 'Portability': [{'option_1': 'Gaming Laptop', 'option_2': 'Ultrabook', 'preference_rating':\n",
            "\t'Moderately Less Preferred'}, {'option_1': 'Gaming Laptop', 'option_2': '2-in-1 Laptop', 'preference_rating':\n",
            "\t'Moderately Less Preferred'}, {'option_1': 'Ultrabook', 'option_2': '2-in-1 Laptop', 'preference_rating': 'Strongly More\n",
            "\tPreferred'}]}, 'partial_status': ['Pass', 'Pass', 'Pass', 'Pass', 'Pass', 'Pass', 'Pass', 'Pass', 'Pass']}}\n",
            "response_data:\n",
            "\t{'assistant_message': 'Everything is set! I’ll now process the data and deliver the most optimal option for your\n",
            "\tdefinitions.', 'user_examples': []}\n",
            " all_validity_checks_passed : True\n",
            "deoptima - INFO     : 2024-10-26 23:45:11,830 : \n",
            "******\n",
            " user_message: 'Portability': 'Ultrabook' is Strongly More Preferred than '2-in-1 Laptop'\n",
            " assistant_message: Everything is set! I’ll now process the data and deliver the most optimal option for your definitions.\n",
            " user_examples: []\n",
            "deoptima - INFO     : 2024-10-26 23:45:11,831 : generate_model_response finished.\n"
          ]
        },
        {
          "output_type": "stream",
          "name": "stdout",
          "text": [
            "Function runtime: 23836.71 msec\n"
          ]
        }
      ],
      "source": [
        "from deoptima.utils import save_to_json\n",
        "\n",
        "import time\n",
        "start_time = time.time()\n",
        "\n",
        "stop_criterion = False\n",
        "\n",
        "n_version = 1\n",
        "n_runs = 1\n",
        "run_cnt = 1 ; run_limit = 18\n",
        "\n",
        "for run_id in range(n_runs):\n",
        "  while not(stop_criterion):\n",
        "    deoptima_logger.info(f\"generate_model_response started.\")\n",
        "    try:\n",
        "      response_finished, all_validity_checks_passed, assistant_message,  user_examples = generate_model_response(conversation)\n",
        "    except Exception as e:\n",
        "      deoptima_logger.error(f\"Error in generate_model_response: {e}\", exc_info=True)\n",
        "      raise\n",
        "    else:\n",
        "      conversation.append({\"role\": \"assistant\", \"content\": assistant_message})\n",
        "      if not all_validity_checks_passed:\n",
        "        import random\n",
        "        user_message = random.choice(user_examples)\n",
        "        conversation.append({\"role\": \"user\", \"content\": user_message})\n",
        "\n",
        "    deoptima_logger.info(f\"\\n******\\n user_message: {user_message}\\n assistant_message: {assistant_message}\\n user_examples: {user_examples}\")\n",
        "\n",
        "    deoptima_logger.info(f\"generate_model_response finished.\")\n",
        "    run_cnt += 1\n",
        "    stop_criterion = (all_validity_checks_passed) or run_cnt > run_limit\n",
        "\n",
        "  conversation_output_folder = os.path.join(SYS_TESTING_DIR, \"output\", scenario_code)\n",
        "  save_to_json(conversation, os.path.join(conversation_output_folder,\n",
        "                                          f\"{os.path.splitext(conversation_files[conversation_idx])[0]}_{n_version}_{run_id}.json\"))\n",
        "\n",
        "end_time = time.time()\n",
        "runtime_ms = (end_time - start_time) * 1000\n",
        "print(f\"Function runtime: {runtime_ms:.2f} msec\")\n"
      ]
    },
    {
      "cell_type": "code",
      "execution_count": 60,
      "metadata": {
        "colab": {
          "base_uri": "https://localhost:8080/",
          "height": 771
        },
        "id": "bKrgSR_q-HYe",
        "outputId": "f004766d-3709-45c7-a8ec-a0a6ddb7f378"
      },
      "outputs": [
        {
          "output_type": "display_data",
          "data": {
            "text/plain": [
              "<IPython.core.display.HTML object>"
            ],
            "text/html": [
              "<div style='font-family: Arial, sans-serif;'><p><strong style='color: #2ecc71;'>user:</strong> I&#x27;m ready to start the decision-making process.</p><p><strong style='color: #3498db;'>assistant:</strong> Great! Let&#x27;s start by defining your goal. What is the goal you are trying to achieve in an optimal way?</p><p><strong style='color: #2ecc71;'>user:</strong> Selecting the best laptop</p><p><strong style='color: #3498db;'>assistant:</strong> Now, please provide a list of options you are considering for your laptop selection. What are the different laptop models you have in mind?</p><p><strong style='color: #2ecc71;'>user:</strong> Gaming Laptop, Ultrabook, 2-in-1 Laptop</p><p><strong style='color: #3498db;'>assistant:</strong> Now, let&#x27;s define the criteria that will influence your decision in selecting the best laptop. What are the important factors you care about when choosing a laptop?</p><p><strong style='color: #2ecc71;'>user:</strong> Storage Capacity, Graphics Card, Portability</p><p><strong style='color: #3498db;'>assistant:</strong> Let&#x27;s move on to the criteria comparison list. Please provide a comparison rating for the following criteria pair: &#x27;Storage Capacity&#x27; is compared to &#x27;Graphics Card&#x27;. How would you rate their importance?</p><p><strong style='color: #2ecc71;'>user:</strong> &#x27;Storage Capacity&#x27; is Strongly Less Important than &#x27;Graphics Card&#x27;</p><p><strong style='color: #3498db;'>assistant:</strong> Let&#x27;s continue with the criteria comparison list. Please provide a comparison rating for the following criteria pair: &#x27;Storage Capacity&#x27; is compared to &#x27;Portability&#x27;. How would you rate their importance?</p><p><strong style='color: #2ecc71;'>user:</strong> Storage Capacity is Extremely Less Important than Graphics Card</p><p><strong style='color: #3498db;'>assistant:</strong> Let&#x27;s continue with the criteria comparison list. Please provide a comparison rating for the following criteria pair: &#x27;Graphics Card&#x27; is compared to &#x27;Portability&#x27;. How would you rate their importance?</p><p><strong style='color: #2ecc71;'>user:</strong> &#x27;Graphics Card&#x27; is Strongly Less Important than &#x27;Portability&#x27;</p><p><strong style='color: #3498db;'>assistant:</strong> Let&#x27;s move on to the preferences dictionary. Please provide a preference statement for the criterion &#x27;Storage Capacity&#x27; comparing &#x27;Gaming Laptop&#x27; and &#x27;Ultrabook&#x27;. How would you rate their preference?</p><p><strong style='color: #2ecc71;'>user:</strong> &#x27;Storage Capacity&#x27;: &#x27;Gaming Laptop&#x27; is Equally Preferred to &#x27;Ultrabook&#x27;</p><p><strong style='color: #3498db;'>assistant:</strong> Let&#x27;s continue with the preferences dictionary. Please provide a preference statement for the criterion &#x27;Storage Capacity&#x27; comparing &#x27;Gaming Laptop&#x27; and &#x27;2-in-1 Laptop&#x27;. How would you rate their preference?</p><p><strong style='color: #2ecc71;'>user:</strong> &#x27;Storage Capacity&#x27;: &#x27;Gaming Laptop&#x27; is Strongly Less Preferred than &#x27;2-in-1 Laptop&#x27;</p><p><strong style='color: #3498db;'>assistant:</strong> Let&#x27;s continue with the preferences dictionary. Please provide a preference statement for the criterion &#x27;Graphics Card&#x27; comparing &#x27;Gaming Laptop&#x27; and &#x27;Ultrabook&#x27;. How would you rate their preference?</p><p><strong style='color: #2ecc71;'>user:</strong> &#x27;Graphics Card&#x27;: &#x27;Gaming Laptop&#x27; is Equally Preferred to &#x27;Ultrabook&#x27;</p><p><strong style='color: #3498db;'>assistant:</strong> Let&#x27;s continue with the preferences dictionary. Please provide a preference statement for the criterion &#x27;Storage Capacity&#x27; comparing &#x27;Ultrabook&#x27; and &#x27;2-in-1 Laptop&#x27;. How would you rate their preference?</p><p><strong style='color: #2ecc71;'>user:</strong> &#x27;Storage Capacity&#x27;: &#x27;Ultrabook&#x27; is Equally Preferred to &#x27;2-in-1 Laptop&#x27;</p><p><strong style='color: #3498db;'>assistant:</strong> Let&#x27;s continue with the preferences dictionary. Please provide a preference statement for the criterion &#x27;Graphics Card&#x27; comparing &#x27;Gaming Laptop&#x27; and &#x27;2-in-1 Laptop&#x27;. How would you rate their preference?</p><p><strong style='color: #2ecc71;'>user:</strong> &#x27;Graphics Card&#x27;: &#x27;Gaming Laptop&#x27; is Equally Preferred to &#x27;2-in-1 Laptop&#x27;</p><p><strong style='color: #3498db;'>assistant:</strong> Let&#x27;s continue with the preferences dictionary. Please provide a preference statement for the criterion &#x27;Graphics Card&#x27; comparing &#x27;Ultrabook&#x27; and &#x27;2-in-1 Laptop&#x27;. How would you rate their preference?</p><p><strong style='color: #2ecc71;'>user:</strong> &#x27;Graphics Card&#x27;: &#x27;Ultrabook&#x27; is Strongly More Preferred than &#x27;2-in-1 Laptop&#x27;</p><p><strong style='color: #3498db;'>assistant:</strong> Let&#x27;s continue with the preferences dictionary. Please provide a preference statement for the criterion &#x27;Portability&#x27; comparing &#x27;Gaming Laptop&#x27; and &#x27;Ultrabook&#x27;. How would you rate their preference?</p><p><strong style='color: #2ecc71;'>user:</strong> Storage Capacity: Ultrabook is Extremely More Preferred to 2-in-1 Laptop</p><p><strong style='color: #3498db;'>assistant:</strong> Let&#x27;s continue with the preferences dictionary. Please provide a preference statement for the criterion &#x27;Portability&#x27; comparing &#x27;Gaming Laptop&#x27; and &#x27;2-in-1 Laptop&#x27;. How would you rate their preference?</p><p><strong style='color: #2ecc71;'>user:</strong> &#x27;Portability&#x27;: &#x27;Gaming Laptop&#x27; is Moderately Less Preferred than &#x27;2-in-1 Laptop&#x27;</p><p><strong style='color: #3498db;'>assistant:</strong> Let&#x27;s complete the preferences dictionary. Please provide a preference statement for the criterion &#x27;Portability&#x27; comparing &#x27;Ultrabook&#x27; and &#x27;2-in-1 Laptop&#x27;. How would you rate their preference?</p><p><strong style='color: #2ecc71;'>user:</strong> &#x27;Portability&#x27;: &#x27;Ultrabook&#x27; is Strongly More Preferred than &#x27;2-in-1 Laptop&#x27;</p><p><strong style='color: #3498db;'>assistant:</strong> Everything is set! I’ll now process the data and deliver the most optimal option for your definitions.</p></div>"
            ]
          },
          "metadata": {}
        }
      ],
      "source": [
        "from IPython.display import display, HTML\n",
        "from deoptima.utils import format_conversation\n",
        "\n",
        "html_content = format_conversation(conversation)\n",
        "display(HTML(html_content))"
      ]
    },
    {
      "cell_type": "markdown",
      "metadata": {
        "id": "hCgLSxx0_6D9"
      },
      "source": [
        "# generation_data.yaml"
      ]
    },
    {
      "cell_type": "markdown",
      "metadata": {
        "id": "YlOlsPQ4F-y4"
      },
      "source": [
        "## Criteria only"
      ]
    },
    {
      "cell_type": "code",
      "execution_count": null,
      "metadata": {
        "id": "3kp3GMnm_a6d"
      },
      "outputs": [],
      "source": [
        "generation_data = \"\"\"\n",
        "infos:\n",
        "  criteria_rating_list:\n",
        "  - Equally Important\n",
        "  - Moderately More Important\n",
        "  - Strongly More Important\n",
        "  - Very Strongly More Important\n",
        "  - Extremely More Important\n",
        "  - Moderately Less Important\n",
        "  - Strongly Less Important\n",
        "  - Very Strongly Less Important\n",
        "  - Extremely Less Important\n",
        "  options_rating_list:\n",
        "  - Equally Preferred\n",
        "  - Moderately More Preferred\n",
        "  - Strongly More Preferred\n",
        "  - Very Strongly More Preferred\n",
        "  - Extremely More Preferred\n",
        "  - Moderately Less Preferred\n",
        "  - Strongly Less Preferred\n",
        "  - Very Strongly Less Preferred\n",
        "  - Extremely Less Preferred\n",
        "\n",
        "  process_technical_explanation: |\n",
        "    Step 1 - Basic Definitions: User should provide following list of definitions during conversation with Deoptima:\n",
        "    •\tStep 1.1 Goal the user trying to achieve in optimal way\n",
        "      Examples:\n",
        "        o\tselecting the best laptop\n",
        "        o\tselecting the best destination for your vacation\n",
        "    •\tStep 1.2 Options list: options (or alternatives) are the different choices or possibilities that the user can select from to achieve goal\n",
        "      Examples:\n",
        "      o\tLaptop model 1, Laptop model 2, Laptop model 3\n",
        "      o\tVacation Destination 1, Vacation Destination 2, Vacation Destination 3\n",
        "      Notation:\n",
        "        o\tn_o – number of options / options list length\n",
        "    •\tStep 1.3 Criteria list: Criteria are the important factors that will influence your decision. Think of them as the things user care most about when choosing the best option.\n",
        "\n",
        "      Examples:\n",
        "        o\tPrice, Performance, Battery Life\n",
        "        o\tPrice, Climate, Activities\n",
        "\n",
        "      Notation:\n",
        "        o\tn_c – number of criteria / criteria list length\n",
        "\n",
        "    Step 2 - Criteria Comparison: User should compare each unique, unordered pair of criteria defined on criteria list.\n",
        "\n",
        "    During the each comparison user should assign a rating come from following criteria rating list to a pair:\n",
        "\n",
        "    {criteria_rating_list}\n",
        "\n",
        "    The valid criteria comparison statement that user should provide have format:\n",
        "    [criterion_1]  is [criteria_rating]  to/than [criterion_2] , where : criterion_1 and criterion_2 are values from criteria list and criteria_rating is value come from criteria_rating_list\n",
        "\n",
        "    Examples:\n",
        "    •\tFor: criterion_1 = “Price”, criterion_2 = “Performance” , sample valid criteria comparison statements are :\n",
        "      o\t“Price is Equally Important to Performance”\n",
        "      o\t“Price is Moderately More Important than Performance” is same as “Performance is Moderately Less Important than Price”\n",
        "    •\tFor: criterion 1 = “Price”, criterion 2 = “Climate” , sample valid criteria comparison statements are :\n",
        "      o\t“Price is Equally Important than Climate”\n",
        "      o\t“Price is Very Strongly More Important than Climate” is same as \"Climate is Very Strongly Less Important than Price\"\n",
        "\n",
        "    Criteria comparison list defined as a list of criteria comparison statements.\n",
        "    Criteria comparison list should contain exactly nc*(nc-1)/2 criteria comparison statements.\n",
        "\n",
        "    Notation:\n",
        "      o\tn_cc – number of criteria comparison statements / criteria comparision list length\n",
        "\n",
        "    Step 3 - all definitions are set and the solution will be prepared\n",
        "\n",
        "prompts:\n",
        "  get_response_data:\n",
        "    prompt: |\n",
        "      Process Technical Explanation\n",
        "      =============================\n",
        "\n",
        "      {process_technical_explanation}\n",
        "\n",
        "      Conversation\n",
        "      ============\n",
        "\n",
        "      {conversation}\n",
        "\n",
        "      Process State\n",
        "      =============\n",
        "\n",
        "      {process_state}\n",
        "\n",
        "      Task\n",
        "      ====\n",
        "\n",
        "      1. Analyze the Conversation and Process State. Follow all steps in \"Process Technical Explanation\" carefully to determine what should be the best next assistant response to user.\n",
        "         Next assistant response shouldn't contain any example answers.\n",
        "         Set the response as assistant_message.\n",
        "      2. If you can conclude from assistant_message that all definitions are set and the solution will be prepared? Yes/No . Set your answer as response_finished.\n",
        "      3. Set user_examples following rules :\n",
        "         3.1 If response_finished is \"No\" , given the Conversation and assistant_message, generate 3 possible user responses based on Process State to fill the most critical missing definitions.\n",
        "         If required user response is a list - generate a comma delimited string.\n",
        "         Possible use response shouldn't contain periods.\n",
        "         Set these responses to user_examples.\n",
        "         3.2 If response_finished is \"Yes\" , set user_examples as empty list.\n",
        "\n",
        "      Task Output: format the output as a JSON object as follows\n",
        "        assistant_message: ?\n",
        "        user_examples: ?\n",
        "        response_finished: ?\n",
        "\n",
        "  get_process_state:\n",
        "    prompt: |\n",
        "      Process Technical Explanation\n",
        "      =============================\n",
        "\n",
        "      {process_technical_explanation}\n",
        "\n",
        "      Task\n",
        "      ============\n",
        "\n",
        "      A conversation between Deoptima assistant and User. Extract from it process state components : Goal , Options , Criteria , and Criteria comparison statements\n",
        "      During the conversation each process state component can be updated.\n",
        "      You should to determine goal, options list, criteria list and their last value stated by user or assistant.\n",
        "      You should to determine each pair criteria and its last criteria comparison statement stated by user or assistant.\n",
        "\n",
        "  get_validation_data:\n",
        "    prompt: |\n",
        "      Process Technical Explanation\n",
        "      =============================\n",
        "\n",
        "      {process_technical_explanation}\n",
        "\n",
        "      Process State\n",
        "      =============\n",
        "\n",
        "      {process_state}\n",
        "\n",
        "      Task\n",
        "      ==============\n",
        "      Perform the following validity checks based on the Process Technical Explanation and Process State.\n",
        "      Don't expose any technical information from Process Technical Explanation or validity checks.\n",
        "\n",
        "      validity_check_1:\n",
        "        name: Criteria comparison statements validity\n",
        "        condition: Process state contains only valid criteria comparison statements as defined in Step 2\n",
        "        solution:\n",
        "          - Find invalid criteria comparison statements to propose user to drop them\n",
        "        status: Set \"Pass\" if condition holds, \"Fail\" - if condition doesn't hold, \"Skipped\" - if the check wasn't reached.\n",
        "      validity_check_2:\n",
        "        name: Number of criteria comparison statements\n",
        "        condition: n_cc == nc*(nc-1)/2\n",
        "        solution:\n",
        "          - Create missing criteria comparison statements and propose user to add them\n",
        "          - Check a list of criteria comparison statements to find statements that contradict and propose user to drop them\n",
        "          - Check a list of criteria comparison statements to find statements that redundant and propose user to drop them\n",
        "        status: Set \"Pass\" if condition holds, \"Fail\" - if condition doesn't hold, \"Skipped\" - if the check wasn't reached.\n",
        "\n",
        "      Stop as soon as you encounter the first failure:\n",
        "      1.1 Analyze the Process State and verify if the condition holds true for each validity check.\n",
        "          Provide a detailed step-by-step explanation of the logic used to verify the condition and to formulate possible solutions. Set the explanation as sbsc_explanation.\n",
        "      1.2 Set the status field of failed validity check to \"Fail\" and \"Skipped\" to rest of vaidity checks and go to \"All validity checks passed\" section.\n",
        "      1.3 If a validity check fails:\n",
        "        1.3.1 Provide a detailed step-by-step explanation of the logic to resolve the problems based on validity check solution. Set the explanation as sbss_explanation.\n",
        "        1.3.2 Generate a polite and consise message describing the problem to user, referring sbsc_explanation. Set the message as assistant_message.\n",
        "        1.3.3 Based on the sbss_explanation, generate a sample of up to 3 of the most relevant examples for user responses to instruct the assistant to resolve the problems. Set these options as initial_user_examples.\n",
        "        1.3.4 Refine initial_user_examples and leave most specific responses. Set these options as user_examples.\n",
        "      All validity checks passed:\n",
        "      1.1 Generate a message about all definitions are set and the solution will be prepared. Set the message as assistant_message.\n",
        "      1.2 Generate empty list. Set it to user_examples.\n",
        "\n",
        "\n",
        "      Task Output: After all checks are completed (or a failure is encountered), format the output as a JSON object as follows\n",
        "      1. For each executed validity check fill data as follows :\n",
        "         1. validity check name\n",
        "         2. sbsc_explanation\n",
        "         3. sbss_explanation\n",
        "         4. validity check status\n",
        "      2. response_data:\n",
        "           assistant_message: ?\n",
        "           user_examples: ?\n",
        "\n",
        "\"\"\""
      ]
    },
    {
      "cell_type": "code",
      "execution_count": null,
      "metadata": {
        "colab": {
          "base_uri": "https://localhost:8080/"
        },
        "id": "3FkULQIREmv2",
        "outputId": "b393d196-3ced-4e61-bb7e-b65130ebe227"
      },
      "outputs": [
        {
          "data": {
            "text/plain": [
              "8446"
            ]
          },
          "execution_count": 77,
          "metadata": {},
          "output_type": "execute_result"
        }
      ],
      "source": [
        "# Write the string to a text file\n",
        "import os\n",
        "with open(os.path.join(SYS_PROJECT_DIR, \"deoptima\", \"generation_data.yaml\"), 'w') as file:\n",
        "    file.write(generation_data)"
      ]
    },
    {
      "cell_type": "markdown",
      "metadata": {
        "id": "gadJsPfrGFim"
      },
      "source": [
        "## Criteria and Options"
      ]
    },
    {
      "cell_type": "markdown",
      "metadata": {
        "id": "DTbEtAQz-SGZ"
      },
      "source": [
        "# Sleep"
      ]
    },
    {
      "cell_type": "code",
      "execution_count": null,
      "metadata": {
        "colab": {
          "base_uri": "https://localhost:8080/",
          "height": 159
        },
        "id": "ydYCGxV_0RxJ",
        "outputId": "dd62a89c-30b8-4920-ebd2-b8cf5d1a9a25"
      },
      "outputs": [
        {
          "ename": "KeyboardInterrupt",
          "evalue": "",
          "output_type": "error",
          "traceback": [
            "\u001b[0;31m---------------------------------------------------------------------------\u001b[0m",
            "\u001b[0;31mKeyboardInterrupt\u001b[0m                         Traceback (most recent call last)",
            "\u001b[0;32m<ipython-input-56-4b9a1d0b2ebd>\u001b[0m in \u001b[0;36m<cell line: 2>\u001b[0;34m()\u001b[0m\n\u001b[1;32m      1\u001b[0m \u001b[0;32mimport\u001b[0m \u001b[0mtime\u001b[0m\u001b[0;34m\u001b[0m\u001b[0;34m\u001b[0m\u001b[0m\n\u001b[0;32m----> 2\u001b[0;31m \u001b[0mtime\u001b[0m\u001b[0;34m.\u001b[0m\u001b[0msleep\u001b[0m\u001b[0;34m(\u001b[0m\u001b[0;36m30000\u001b[0m\u001b[0;34m)\u001b[0m\u001b[0;34m\u001b[0m\u001b[0;34m\u001b[0m\u001b[0m\n\u001b[0m",
            "\u001b[0;31mKeyboardInterrupt\u001b[0m: "
          ]
        }
      ],
      "source": [
        "import time\n",
        "time.sleep(30000)"
      ]
    },
    {
      "cell_type": "code",
      "execution_count": null,
      "metadata": {
        "id": "e-1BoKn6_wzO"
      },
      "outputs": [],
      "source": []
    }
  ],
  "metadata": {
    "colab": {
      "machine_shape": "hm",
      "provenance": [],
      "toc_visible": true,
      "mount_file_id": "11eqV3lWnKESuFMDCbj7MVxCkFPF5xB0M",
      "authorship_tag": "ABX9TyMo8E/thLKO28tz5AaKU6sP",
      "include_colab_link": true
    },
    "kernelspec": {
      "display_name": "Python 3",
      "name": "python3"
    },
    "language_info": {
      "name": "python"
    }
  },
  "nbformat": 4,
  "nbformat_minor": 0
}